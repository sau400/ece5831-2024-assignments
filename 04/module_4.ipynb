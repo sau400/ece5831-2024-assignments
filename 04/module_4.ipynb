{
 "cells": [
  {
   "cell_type": "code",
   "execution_count": 1,
   "id": "982443f8",
   "metadata": {},
   "outputs": [],
   "source": [
    "net = {}\n",
    "import numpy as np"
   ]
  },
  {
   "cell_type": "code",
   "execution_count": 2,
   "id": "b87548cc",
   "metadata": {},
   "outputs": [],
   "source": [
    "net['w1'] = np.array([[0.7, 0.9, 0.3],[0.5, 0.4, 0.1]])"
   ]
  },
  {
   "cell_type": "code",
   "execution_count": 3,
   "id": "f781619a",
   "metadata": {},
   "outputs": [
    {
     "data": {
      "text/plain": [
       "array([[0.7, 0.9, 0.3],\n",
       "       [0.5, 0.4, 0.1]])"
      ]
     },
     "execution_count": 3,
     "metadata": {},
     "output_type": "execute_result"
    }
   ],
   "source": [
    "net['w1']"
   ]
  },
  {
   "cell_type": "code",
   "execution_count": 4,
   "id": "f4b6adb5",
   "metadata": {},
   "outputs": [],
   "source": [
    "# STEP FUNCTION"
   ]
  },
  {
   "cell_type": "code",
   "execution_count": 5,
   "id": "d8b52169",
   "metadata": {},
   "outputs": [],
   "source": [
    "# step_function numpy version\n",
    "def step_new(x):\n",
    "    return (x > 0).astype(int)"
   ]
  },
  {
   "cell_type": "code",
   "execution_count": 6,
   "id": "77074536",
   "metadata": {},
   "outputs": [],
   "source": [
    "import matplotlib.pyplot as plt"
   ]
  },
  {
   "cell_type": "code",
   "execution_count": 7,
   "id": "704f9107",
   "metadata": {},
   "outputs": [],
   "source": [
    "x = np.arange(-10,5,0.1)\n",
    "y = step_new(x)"
   ]
  },
  {
   "cell_type": "code",
   "execution_count": 8,
   "id": "da8c34eb",
   "metadata": {},
   "outputs": [
    {
     "data": {
      "text/plain": [
       "array([0, 0, 0, 0, 0, 0, 0, 0, 0, 0, 0, 0, 0, 0, 0, 0, 0, 0, 0, 0, 0, 0,\n",
       "       0, 0, 0, 0, 0, 0, 0, 0, 0, 0, 0, 0, 0, 0, 0, 0, 0, 0, 0, 0, 0, 0,\n",
       "       0, 0, 0, 0, 0, 0, 0, 0, 0, 0, 0, 0, 0, 0, 0, 0, 0, 0, 0, 0, 0, 0,\n",
       "       0, 0, 0, 0, 0, 0, 0, 0, 0, 0, 0, 0, 0, 0, 0, 0, 0, 0, 0, 0, 0, 0,\n",
       "       0, 0, 0, 0, 0, 0, 0, 0, 0, 0, 0, 0, 0, 1, 1, 1, 1, 1, 1, 1, 1, 1,\n",
       "       1, 1, 1, 1, 1, 1, 1, 1, 1, 1, 1, 1, 1, 1, 1, 1, 1, 1, 1, 1, 1, 1,\n",
       "       1, 1, 1, 1, 1, 1, 1, 1, 1, 1, 1, 1, 1, 1, 1, 1, 1, 1])"
      ]
     },
     "execution_count": 8,
     "metadata": {},
     "output_type": "execute_result"
    }
   ],
   "source": [
    "y"
   ]
  },
  {
   "cell_type": "code",
   "execution_count": 9,
   "id": "9eb61555",
   "metadata": {},
   "outputs": [
    {
     "data": {
      "image/png": "[encoded data removed]",
      "text/plain": [
       "<Figure size 432x288 with 1 Axes>"
      ]
     },
     "metadata": {
      "needs_background": "light"
     },
     "output_type": "display_data"
    }
   ],
   "source": [
    "plt.plot(x, y)\n",
    "plt.title('step_function')\n",
    "plt.show()"
   ]
  },
  {
   "cell_type": "code",
   "execution_count": 10,
   "id": "5c8e13d3",
   "metadata": {},
   "outputs": [],
   "source": [
    "# SIGMOID"
   ]
  },
  {
   "cell_type": "code",
   "execution_count": 11,
   "id": "3aba4539",
   "metadata": {},
   "outputs": [],
   "source": [
    "def sigmoid(x):\n",
    "    return 1/(1+np.exp(-x))"
   ]
  },
  {
   "cell_type": "code",
   "execution_count": 12,
   "id": "4abb726f",
   "metadata": {},
   "outputs": [],
   "source": [
    "y1 = sigmoid(x)"
   ]
  },
  {
   "cell_type": "code",
   "execution_count": 13,
   "id": "50b3f029",
   "metadata": {},
   "outputs": [
    {
     "data": {
      "image/png": "[encoded data removed]",
      "text/plain": [
       "<Figure size 432x288 with 1 Axes>"
      ]
     },
     "metadata": {
      "needs_background": "light"
     },
     "output_type": "display_data"
    }
   ],
   "source": [
    "plt.plot(y1)\n",
    "plt.title(\"Sigmoid Function\")\n",
    "plt.show()"
   ]
  },
  {
   "cell_type": "code",
   "execution_count": 14,
   "id": "c423bd83",
   "metadata": {},
   "outputs": [],
   "source": [
    "def identity(x):\n",
    "    return x"
   ]
  },
  {
   "cell_type": "raw",
   "id": "5b5ca2ae",
   "metadata": {},
   "source": [
    "MAKING MLP FUNCTION"
   ]
  },
  {
   "cell_type": "code",
   "execution_count": 15,
   "id": "4b46f38d",
   "metadata": {},
   "outputs": [],
   "source": [
    "def init_network():\n",
    "    net = {}\n",
    "    # HIDDEN LAYER 1\n",
    "    net['w1'] = np.array([[0.7, 0.9, 0.3],[0.5, 0.4, 0.1]])\n",
    "    net['b1'] = np.array([1, 1, 1])\n",
    "    # HIDDEN LAYER 2\n",
    "    net['w2'] = np.array([ [0.2, 0.3], [0.4, 0.5], [0.22, 0.1234] ])\n",
    "    net['b2'] = np.array([0.5, 0.5])\n",
    "    # OUTPUT LAYER \n",
    "    net['w3'] = np.array([ [0.7, 0.1], [0.123, 0.314] ])\n",
    "    net['b3'] = np.array([0.1, 0.2])\n",
    "\n",
    "    return net\n",
    "\n",
    "def forward(net, x):\n",
    "    w1, w2, w3 = net['w1'], net['w2'], net['w3']\n",
    "    b1, b2, b3 = net['b1'], net['b2'], net['b3']\n",
    "\n",
    "    a1 = np.dot(x, w1) + b1\n",
    "    z1 = sigmoid(a1)\n",
    "\n",
    "    a2 = np.dot(z1, w2) + b2\n",
    "    z2 = sigmoid(a2)\n",
    "\n",
    "    a3 = np.dot(z2, w3) + b3\n",
    "    y = identity(a3)\n",
    "\n",
    "    return y"
   ]
  },
  {
   "cell_type": "code",
   "execution_count": 16,
   "id": "ab983b02",
   "metadata": {},
   "outputs": [],
   "source": [
    "n = init_network()"
   ]
  },
  {
   "cell_type": "code",
   "execution_count": 17,
   "id": "d6e7f8c1",
   "metadata": {},
   "outputs": [],
   "source": [
    "y = forward(n,np.array([9.0, 2.0]))"
   ]
  },
  {
   "cell_type": "code",
   "execution_count": 18,
   "id": "feb4fc2e",
   "metadata": {},
   "outputs": [
    {
     "data": {
      "text/plain": [
       "array([0.75098312, 0.53176249])"
      ]
     },
     "execution_count": 18,
     "metadata": {},
     "output_type": "execute_result"
    }
   ],
   "source": [
    "y"
   ]
  }
 ],
 "metadata": {
  "kernelspec": {
   "display_name": "Python 3 (ipykernel)",
   "language": "python",
   "name": "python3"
  },
  "language_info": {
   "codemirror_mode": {
    "name": "ipython",
    "version": 3
   },
   "file_extension": ".py",
   "mimetype": "text/x-python",
   "name": "python",
   "nbconvert_exporter": "python",
   "pygments_lexer": "ipython3",
   "version": "3.9.12"
  }
 },
 "nbformat": 4,
 "nbformat_minor": 5
}
