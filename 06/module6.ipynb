{
 "cells": [
  {
   "cell_type": "code",
   "execution_count": 2,
   "metadata": {},
   "outputs": [],
   "source": [
    "#Testing our error class"
   ]
  },
  {
   "cell_type": "code",
   "execution_count": null,
   "metadata": {},
   "outputs": [],
   "source": [
    "import numpy as np\n",
    "def cross_entropy_error(y_hat, y):\n",
    "    batch_size = 1 if y_hat.ndim == 1 else y_hat.shape[0]\n",
    "    return -np.sum(y*np.log(y_hat + 1e-7))/batch_size"
   ]
  },
  {
   "cell_type": "code",
   "execution_count": 4,
   "metadata": {},
   "outputs": [],
   "source": [
    "y_hat_batch = np.array([ [0.2, 0.2, 0.3, 0.1, 0.2], [0.1, 0.1, 0.1, 0.1, 0.6]])\n",
    "y_batch =     np.array([ [0,   0,   1,   0,    0],   [0,   0,   0,   0,   1]])"
   ]
  },
  {
   "cell_type": "code",
   "execution_count": 5,
   "metadata": {},
   "outputs": [
    {
     "data": {
      "text/plain": [
       "0.8573989640459981"
      ]
     },
     "execution_count": 5,
     "metadata": {},
     "output_type": "execute_result"
    }
   ],
   "source": [
    "cross_entropy_error(y_hat_batch, y_batch)"
   ]
  },
  {
   "cell_type": "markdown",
   "metadata": {},
   "source": [
    "For activation class"
   ]
  },
  {
   "cell_type": "code",
   "execution_count": 8,
   "metadata": {},
   "outputs": [],
   "source": [
    "def sigmoid(x):\n",
    "        return 1/(1 + np.exp(-x))"
   ]
  },
  {
   "cell_type": "code",
   "execution_count": 9,
   "metadata": {},
   "outputs": [
    {
     "data": {
      "text/plain": [
       "1.0"
      ]
     },
     "execution_count": 9,
     "metadata": {},
     "output_type": "execute_result"
    }
   ],
   "source": [
    "sigmoid(100)"
   ]
  },
  {
   "cell_type": "code",
   "execution_count": 10,
   "metadata": {},
   "outputs": [],
   "source": [
    "def softmax(x):\n",
    "        if x.ndim == 2:\n",
    "            x = x.T\n",
    "            x = x - np.max(x, axis=0)\n",
    "            y = np.exp(x) / np.sum(np.exp(x), axis=0)\n",
    "            return y.T \n",
    "\n",
    "        x = x - np.max(x)  \n",
    "        return np.exp(x) / np.sum(np.exp(x))"
   ]
  },
  {
   "cell_type": "code",
   "execution_count": 16,
   "metadata": {},
   "outputs": [
    {
     "data": {
      "text/plain": [
       "array([0.65900114, 0.24243297, 0.09856589])"
      ]
     },
     "execution_count": 16,
     "metadata": {},
     "output_type": "execute_result"
    }
   ],
   "source": [
    "x = np.array([2.0, 1.0, 0.1])\n",
    "softmax(x)"
   ]
  },
  {
   "cell_type": "markdown",
   "metadata": {},
   "source": [
    "#Testing layers class"
   ]
  },
  {
   "cell_type": "code",
   "execution_count": null,
   "metadata": {},
   "outputs": [
    {
     "name": "stdout",
     "output_type": "stream",
     "text": [
      "Testing Relu Forward:\n",
      "Relu forward output:\n",
      " [[1.76405235 0.40015721 0.97873798 2.2408932  1.86755799 0.\n",
      "  0.95008842 0.         0.         0.4105985 ]\n",
      " [0.14404357 1.45427351 0.76103773 0.12167502 0.44386323 0.33367433\n",
      "  1.49407907 0.         0.3130677  0.        ]\n",
      " [0.         0.6536186  0.8644362  0.         2.26975462 0.\n",
      "  0.04575852 0.         1.53277921 1.46935877]\n",
      " [0.15494743 0.37816252 0.         0.         0.         0.15634897\n",
      "  1.23029068 1.20237985 0.         0.        ]\n",
      " [0.         0.         0.         1.9507754  0.         0.\n",
      "  0.         0.77749036 0.         0.        ]\n",
      " [0.         0.3869025  0.         0.         0.         0.42833187\n",
      "  0.06651722 0.3024719  0.         0.        ]\n",
      " [0.         0.         0.         0.         0.17742614 0.\n",
      "  0.         0.46278226 0.         0.0519454 ]\n",
      " [0.72909056 0.12898291 1.13940068 0.         0.40234164 0.\n",
      "  0.         0.         0.         0.05616534]\n",
      " [0.         0.90082649 0.46566244 0.         1.48825219 1.89588918\n",
      "  1.17877957 0.         0.         1.05445173]\n",
      " [0.         1.22244507 0.20827498 0.97663904 0.3563664  0.70657317\n",
      "  0.01050002 1.78587049 0.12691209 0.40198936]\n",
      " [1.8831507  0.         0.         0.96939671 0.         1.94362119\n",
      "  0.         0.         1.92294203 1.48051479]\n",
      " [1.86755896 0.90604466 0.         1.91006495 0.         0.8024564\n",
      "  0.94725197 0.         0.61407937 0.92220667]\n",
      " [0.37642553 0.         0.29823817 1.3263859  0.         0.\n",
      "  0.         1.84926373 0.67229476 0.40746184]\n",
      " [0.         0.53924919 0.         0.03183056 0.         0.67643329\n",
      "  0.57659082 0.         0.39600671 0.        ]\n",
      " [0.         0.4393917  0.1666735  0.63503144 2.38314477 0.94447949\n",
      "  0.         1.11701629 0.         0.        ]\n",
      " [0.         1.71334272 0.         0.         0.         0.\n",
      "  1.12663592 0.         0.         0.        ]]\n",
      "\n",
      "Testing Relu Backward:\n",
      "Relu backward output:\n",
      " [[1. 1. 1. 1. 1. 0. 1. 0. 0. 1.]\n",
      " [1. 1. 1. 1. 1. 1. 1. 0. 1. 0.]\n",
      " [0. 1. 1. 0. 1. 0. 1. 0. 1. 1.]\n",
      " [1. 1. 0. 0. 0. 1. 1. 1. 0. 0.]\n",
      " [0. 0. 0. 1. 0. 0. 0. 1. 0. 0.]\n",
      " [0. 1. 0. 0. 0. 1. 1. 1. 0. 0.]\n",
      " [0. 0. 0. 0. 1. 0. 0. 1. 0. 1.]\n",
      " [1. 1. 1. 0. 1. 0. 0. 0. 0. 1.]\n",
      " [0. 1. 1. 0. 1. 1. 1. 0. 0. 1.]\n",
      " [0. 1. 1. 1. 1. 1. 1. 1. 1. 1.]\n",
      " [1. 0. 0. 1. 0. 1. 0. 0. 1. 1.]\n",
      " [1. 1. 0. 1. 0. 1. 1. 0. 1. 1.]\n",
      " [1. 0. 1. 1. 0. 0. 0. 1. 1. 1.]\n",
      " [0. 1. 0. 1. 0. 1. 1. 0. 1. 0.]\n",
      " [0. 1. 1. 1. 1. 1. 0. 1. 0. 0.]\n",
      " [0. 1. 0. 0. 0. 0. 1. 0. 0. 0.]]\n",
      "\n",
      "Testing Sigmoid Forward:\n",
      "Sigmoid forward output:\n",
      " [[0.85371646 0.59872543 0.72685773 0.9038621  0.86617546 0.27343225\n",
      "  0.72113296 0.46223277 0.47421817 0.60123138]\n",
      " [0.53594876 0.81065526 0.68157899 0.53038128 0.60917918 0.58265313\n",
      "  0.81668973 0.44888958 0.57763388 0.29857439]\n",
      " [0.07222588 0.65782544 0.70358667 0.32253089 0.90634096 0.18933059\n",
      "  0.51143763 0.4533402  0.82241258 0.8129599 ]\n",
      " [0.53865954 0.59342985 0.29156698 0.12123396 0.41388881 0.53900781\n",
      "  0.77386945 0.76894787 0.40436098 0.42499465]\n",
      " [0.25950307 0.19465877 0.15364812 0.87553117 0.37527507 0.39219992\n",
      "  0.22221662 0.68513898 0.16604815 0.44701462]\n",
      " [0.28998301 0.59553682 0.3750048  0.23493855 0.49295491 0.60547526\n",
      "  0.51662318 0.57504668 0.34653116 0.41029617]\n",
      " [0.33794612 0.41106774 0.30722045 0.15106369 0.54424054 0.40088453\n",
      "  0.16380319 0.613674   0.28755299 0.51298343]\n",
      " [0.67460567 0.5322011  0.75756959 0.22533791 0.59925013 0.33518859\n",
      "  0.29508846 0.35919733 0.42273583 0.51403765]\n",
      " [0.23773279 0.71111932 0.6143566  0.177082   0.81581579 0.86942555\n",
      "  0.7647283  0.45513975 0.25525998 0.74162884]\n",
      " [0.40054928 0.77249355 0.55188134 0.72644082 0.58816056 0.66964351\n",
      "  0.50262498 0.85642024 0.53168551 0.59916553]\n",
      " [0.8679726  0.20623698 0.21917424 0.72499923 0.23629088 0.87474943\n",
      "  0.39804468 0.32137614 0.87246615 0.81465032]\n",
      " [0.86617558 0.7121901  0.29708333 0.87102644 0.43339733 0.69049968\n",
      "  0.72056219 0.46132489 0.6488708  0.71549152]\n",
      " [0.5930107  0.24985219 0.57401177 0.79024219 0.3330177  0.46266101\n",
      "  0.39289638 0.86404063 0.6620168  0.60047912]\n",
      " [0.31649726 0.63163774 0.33752737 0.50795697 0.34618614 0.66294218\n",
      "  0.64028258 0.44811278 0.59772785 0.25104221]\n",
      " [0.18373304 0.60811408 0.54157218 0.65362945 0.91553295 0.7200036\n",
      "  0.28642267 0.75343485 0.2115     0.38660998]\n",
      " [0.48294622 0.84726935 0.32196527 0.30439865 0.47540673 0.3399587\n",
      "  0.75521754 0.25351898 0.24095175 0.39226053]]\n",
      "\n",
      "Testing Sigmoid Backward:\n",
      "Sigmoid backward output:\n",
      " [[0.12488466 0.24025329 0.19853557 0.0868954  0.11591553 0.19866705\n",
      "  0.20110021 0.24857364 0.2493353  0.23975221]\n",
      " [0.24870769 0.15349331 0.21702907 0.24907698 0.23807991 0.24316846\n",
      "  0.14970761 0.24738772 0.24397298 0.20942772]\n",
      " [0.06700931 0.22509113 0.20855247 0.21850472 0.08488702 0.15348452\n",
      "  0.24986918 0.24782286 0.14605013 0.1520561 ]\n",
      " [0.24850544 0.24127086 0.20655568 0.10653629 0.24258486 0.24847839\n",
      "  0.17499553 0.17766704 0.24085318 0.2443742 ]\n",
      " [0.19216123 0.15676673 0.13004037 0.10897634 0.23444369 0.23837914\n",
      "  0.1728364  0.21572356 0.13847616 0.24719255]\n",
      " [0.20589286 0.24087272 0.2343762  0.17974243 0.24995037 0.23887497\n",
      "  0.24972367 0.244368   0.22644732 0.24195322]\n",
      " [0.22373854 0.24209105 0.21283604 0.12824345 0.24804277 0.24017612\n",
      "  0.13697171 0.23707822 0.20486627 0.24983143]\n",
      " [0.21951286 0.24896309 0.18365791 0.17456074 0.24014941 0.2228372\n",
      "  0.20801126 0.23017461 0.24403025 0.24980294]\n",
      " [0.18121591 0.20542863 0.23692257 0.14572396 0.15026039 0.11352476\n",
      "  0.17991893 0.24798756 0.19010232 0.19161551]\n",
      " [0.24010956 0.17574727 0.24730833 0.19872456 0.24222772 0.22122108\n",
      "  0.24999311 0.12296461 0.24899603 0.2401662 ]\n",
      " [0.11459616 0.16370329 0.17113689 0.19937535 0.1804575  0.10956286\n",
      "  0.23960511 0.21809352 0.11126897 0.15099517]\n",
      " [0.11591545 0.20497536 0.20882482 0.11233938 0.24556408 0.21370987\n",
      "  0.20135232 0.24850424 0.22783749 0.20356341]\n",
      " [0.24134901 0.18742607 0.24452226 0.16575947 0.22211691 0.2486058\n",
      "  0.23852882 0.11747442 0.22375056 0.23990395]\n",
      " [0.21632674 0.2326715  0.22360264 0.24993669 0.2263413  0.22344985\n",
      "  0.2303208  0.24730772 0.24044927 0.18802002]\n",
      " [0.14997521 0.23831135 0.24827175 0.22639799 0.07733237 0.20159841\n",
      "  0.20438472 0.18577078 0.16676775 0.2371427 ]\n",
      " [0.24970917 0.129404   0.21830364 0.21174011 0.24939517 0.22438678\n",
      "  0.18486401 0.18924711 0.182894   0.23839221]]\n",
      "\n",
      "Testing Affine Forward:\n",
      "Affine forward output:\n",
      " [[ 1.8745361   0.49548017 -0.69506996 -6.31404678 -4.10424174]\n",
      " [ 1.52744623 -1.50692673 -0.27655007 -2.73359999  0.13922074]\n",
      " [ 1.58139716 -6.44036549 -2.48635365 -3.15178128  1.26997295]\n",
      " [-2.30767951  3.20867994  1.92553476  2.96013613  1.9253457 ]\n",
      " [ 3.30014263 -0.55522471 -1.44580879  1.46228219  0.06596629]\n",
      " [ 0.41434012 -1.03429282 -0.42795897  0.59051031  1.49510085]\n",
      " [ 1.87613267  0.8445724   0.47086808  2.59130802 -0.75296382]\n",
      " [ 3.06755026  2.5472484   1.98583101 -1.24017688 -5.23639941]\n",
      " [-4.73418356 -5.18281143 -3.26227322 -5.98528705  3.70374241]\n",
      " [ 0.72571532 -2.33104221 -0.85920599  3.10188057  3.48593941]\n",
      " [-6.81427492  2.39792711  4.17823685  0.19438888 -0.21260052]\n",
      " [-2.85272726  0.65160195 -0.85106253 -0.31477817 -0.36003841]\n",
      " [ 0.79701199  3.43304807  4.60074459  4.18029527 -0.07034747]\n",
      " [ 1.2025924  -1.89600031  0.11512863  0.2742057   1.89822308]\n",
      " [ 2.47416665 -6.83197773 -3.23856517 -3.97879376  4.02655318]\n",
      " [ 2.09976024 -0.48075256 -3.83697282 -1.39259777 -2.19266467]]\n",
      "\n",
      "Testing Affine Backward:\n",
      "Affine backward dx:\n",
      " [[ 1.24303613 -0.19565106  0.41114865 -1.24941827 -3.97073531 -1.85082432\n",
      "  -1.7099057   4.92351227  1.78649384 -2.19753887]\n",
      " [ 1.24303613 -0.19565106  0.41114865 -1.24941827 -3.97073531 -1.85082432\n",
      "  -1.7099057   4.92351227  1.78649384 -2.19753887]\n",
      " [ 1.24303613 -0.19565106  0.41114865 -1.24941827 -3.97073531 -1.85082432\n",
      "  -1.7099057   4.92351227  1.78649384 -2.19753887]\n",
      " [ 1.24303613 -0.19565106  0.41114865 -1.24941827 -3.97073531 -1.85082432\n",
      "  -1.7099057   4.92351227  1.78649384 -2.19753887]\n",
      " [ 1.24303613 -0.19565106  0.41114865 -1.24941827 -3.97073531 -1.85082432\n",
      "  -1.7099057   4.92351227  1.78649384 -2.19753887]\n",
      " [ 1.24303613 -0.19565106  0.41114865 -1.24941827 -3.97073531 -1.85082432\n",
      "  -1.7099057   4.92351227  1.78649384 -2.19753887]\n",
      " [ 1.24303613 -0.19565106  0.41114865 -1.24941827 -3.97073531 -1.85082432\n",
      "  -1.7099057   4.92351227  1.78649384 -2.19753887]\n",
      " [ 1.24303613 -0.19565106  0.41114865 -1.24941827 -3.97073531 -1.85082432\n",
      "  -1.7099057   4.92351227  1.78649384 -2.19753887]\n",
      " [ 1.24303613 -0.19565106  0.41114865 -1.24941827 -3.97073531 -1.85082432\n",
      "  -1.7099057   4.92351227  1.78649384 -2.19753887]\n",
      " [ 1.24303613 -0.19565106  0.41114865 -1.24941827 -3.97073531 -1.85082432\n",
      "  -1.7099057   4.92351227  1.78649384 -2.19753887]\n",
      " [ 1.24303613 -0.19565106  0.41114865 -1.24941827 -3.97073531 -1.85082432\n",
      "  -1.7099057   4.92351227  1.78649384 -2.19753887]\n",
      " [ 1.24303613 -0.19565106  0.41114865 -1.24941827 -3.97073531 -1.85082432\n",
      "  -1.7099057   4.92351227  1.78649384 -2.19753887]\n",
      " [ 1.24303613 -0.19565106  0.41114865 -1.24941827 -3.97073531 -1.85082432\n",
      "  -1.7099057   4.92351227  1.78649384 -2.19753887]\n",
      " [ 1.24303613 -0.19565106  0.41114865 -1.24941827 -3.97073531 -1.85082432\n",
      "  -1.7099057   4.92351227  1.78649384 -2.19753887]\n",
      " [ 1.24303613 -0.19565106  0.41114865 -1.24941827 -3.97073531 -1.85082432\n",
      "  -1.7099057   4.92351227  1.78649384 -2.19753887]\n",
      " [ 1.24303613 -0.19565106  0.41114865 -1.24941827 -3.97073531 -1.85082432\n",
      "  -1.7099057   4.92351227  1.78649384 -2.19753887]]\n",
      "Affine backward dw:\n",
      " [[-2.14794276 -2.14794276 -2.14794276 -2.14794276 -2.14794276]\n",
      " [ 4.89666612  4.89666612  4.89666612  4.89666612  4.89666612]\n",
      " [-2.58634384 -2.58634384 -2.58634384 -2.58634384 -2.58634384]\n",
      " [ 0.93530788  0.93530788  0.93530788  0.93530788  0.93530788]\n",
      " [ 5.6329672   5.6329672   5.6329672   5.6329672   5.6329672 ]\n",
      " [ 3.11838616  3.11838616  3.11838616  3.11838616  3.11838616]\n",
      " [ 2.1111066   2.1111066   2.1111066   2.1111066   2.1111066 ]\n",
      " [ 4.00410588  4.00410588  4.00410588  4.00410588  4.00410588]\n",
      " [-1.91366332 -1.91366332 -1.91366332 -1.91366332 -1.91366332]\n",
      " [ 2.53034631  2.53034631  2.53034631  2.53034631  2.53034631]]\n",
      "Affine backward db:\n",
      " [16. 16. 16. 16. 16.]\n",
      "\n",
      "Testing SoftmaxWithLoss Forward:\n",
      "Softmax with Loss forward (loss):\n",
      " nan\n",
      "\n",
      "Testing SoftmaxWithLoss Backward:\n",
      "Softmax with Loss backward (gradient):\n",
      " [[ 0.11715851  0.03096751 -0.04344187 -0.45712792 -0.25651511]\n",
      " [ 0.09546539 -0.15668292 -0.01728438 -0.17085     0.0087013 ]\n",
      " [ 0.09883732 -0.46502284 -0.1553971  -0.19698633  0.07937331]\n",
      " [-0.14422997  0.1380425   0.12034592  0.18500851  0.12033411]\n",
      " [ 0.14375891 -0.03470154 -0.09036305  0.09139264  0.00412289]\n",
      " [ 0.02589626 -0.0646433  -0.02674744 -0.02559311  0.0934438 ]\n",
      " [ 0.05475829  0.05278577  0.02942926  0.16195675 -0.04706024]\n",
      " [ 0.19172189  0.15920303  0.12411444 -0.07751106 -0.38977496]\n",
      " [-0.29588647 -0.38642571 -0.20389208 -0.37408044  0.2314839 ]\n",
      " [ 0.04535721 -0.14569014 -0.05370037  0.19386754  0.15537121]\n",
      " [-0.48839218  0.14987044  0.2611398   0.0121493  -0.01328753]\n",
      " [-0.17829545  0.04072512 -0.05319141 -0.08217364 -0.0225024 ]\n",
      " [ 0.04981325  0.2145655   0.22504654  0.26126845 -0.00439672]\n",
      " [ 0.07516202 -0.18100002  0.00719554  0.01713786  0.11863894]\n",
      " [ 0.15463542 -0.42699861 -0.20241032 -0.24867461  0.18915957]\n",
      " [ 0.13123502 -0.03004703 -0.2398108  -0.08703736 -0.19954154]]\n"
     ]
    },
    {
     "name": "stderr",
     "output_type": "stream",
     "text": [
      "d:\\hw-pattern\\errors.py:8: RuntimeWarning: invalid value encountered in log\n",
      "  return -np.sum(t*np.log(y + delta)) / batch_size\n"
     ]
    }
   ],
   "source": [
    "import numpy as np\n",
    "from layers import Relu,Sigmoid,Affine,SoftmaxWithLoss\n",
    "# Test data\n",
    "np.random.seed(0)  # For reproducibility\n",
    "x = np.random.randn(16, 10)      # Input data (e.g., batch of 16 samples with 10 features each)\n",
    "w = np.random.randn(10, 5)       # Weights for Affine layer (input_dim=10, output_dim=5)\n",
    "b = np.random.randn(5)           # Biases for Affine layer (output_dim=5)\n",
    "y_true = np.eye(5)[np.random.choice(5, 16)]  # One-hot encoded true labels for SoftmaxWithLoss\n",
    "\n",
    "# Relu Layer Test\n",
    "relu = Relu()\n",
    "print(\"Testing Relu Forward:\")\n",
    "relu_out = relu.forward(x)\n",
    "print(\"Relu forward output:\\n\", relu_out)\n",
    "\n",
    "print(\"\\nTesting Relu Backward:\")\n",
    "relu_grad = relu.backward(np.ones_like(relu_out))\n",
    "print(\"Relu backward output:\\n\", relu_grad)"
   ]
  },
  {
   "cell_type": "code",
   "execution_count": 18,
   "metadata": {},
   "outputs": [
    {
     "name": "stdout",
     "output_type": "stream",
     "text": [
      "\n",
      "Testing Sigmoid Forward:\n",
      "Sigmoid forward output:\n",
      " [[0.85371646 0.59872543 0.72685773 0.9038621  0.86617546 0.27343225\n",
      "  0.72113296 0.46223277 0.47421817 0.60123138]\n",
      " [0.53594876 0.81065526 0.68157899 0.53038128 0.60917918 0.58265313\n",
      "  0.81668973 0.44888958 0.57763388 0.29857439]\n",
      " [0.07222588 0.65782544 0.70358667 0.32253089 0.90634096 0.18933059\n",
      "  0.51143763 0.4533402  0.82241258 0.8129599 ]\n",
      " [0.53865954 0.59342985 0.29156698 0.12123396 0.41388881 0.53900781\n",
      "  0.77386945 0.76894787 0.40436098 0.42499465]\n",
      " [0.25950307 0.19465877 0.15364812 0.87553117 0.37527507 0.39219992\n",
      "  0.22221662 0.68513898 0.16604815 0.44701462]\n",
      " [0.28998301 0.59553682 0.3750048  0.23493855 0.49295491 0.60547526\n",
      "  0.51662318 0.57504668 0.34653116 0.41029617]\n",
      " [0.33794612 0.41106774 0.30722045 0.15106369 0.54424054 0.40088453\n",
      "  0.16380319 0.613674   0.28755299 0.51298343]\n",
      " [0.67460567 0.5322011  0.75756959 0.22533791 0.59925013 0.33518859\n",
      "  0.29508846 0.35919733 0.42273583 0.51403765]\n",
      " [0.23773279 0.71111932 0.6143566  0.177082   0.81581579 0.86942555\n",
      "  0.7647283  0.45513975 0.25525998 0.74162884]\n",
      " [0.40054928 0.77249355 0.55188134 0.72644082 0.58816056 0.66964351\n",
      "  0.50262498 0.85642024 0.53168551 0.59916553]\n",
      " [0.8679726  0.20623698 0.21917424 0.72499923 0.23629088 0.87474943\n",
      "  0.39804468 0.32137614 0.87246615 0.81465032]\n",
      " [0.86617558 0.7121901  0.29708333 0.87102644 0.43339733 0.69049968\n",
      "  0.72056219 0.46132489 0.6488708  0.71549152]\n",
      " [0.5930107  0.24985219 0.57401177 0.79024219 0.3330177  0.46266101\n",
      "  0.39289638 0.86404063 0.6620168  0.60047912]\n",
      " [0.31649726 0.63163774 0.33752737 0.50795697 0.34618614 0.66294218\n",
      "  0.64028258 0.44811278 0.59772785 0.25104221]\n",
      " [0.18373304 0.60811408 0.54157218 0.65362945 0.91553295 0.7200036\n",
      "  0.28642267 0.75343485 0.2115     0.38660998]\n",
      " [0.48294622 0.84726935 0.32196527 0.30439865 0.47540673 0.3399587\n",
      "  0.75521754 0.25351898 0.24095175 0.39226053]]\n",
      "\n",
      "Testing Sigmoid Backward:\n",
      "Sigmoid backward output:\n",
      " [[0.12488466 0.24025329 0.19853557 0.0868954  0.11591553 0.19866705\n",
      "  0.20110021 0.24857364 0.2493353  0.23975221]\n",
      " [0.24870769 0.15349331 0.21702907 0.24907698 0.23807991 0.24316846\n",
      "  0.14970761 0.24738772 0.24397298 0.20942772]\n",
      " [0.06700931 0.22509113 0.20855247 0.21850472 0.08488702 0.15348452\n",
      "  0.24986918 0.24782286 0.14605013 0.1520561 ]\n",
      " [0.24850544 0.24127086 0.20655568 0.10653629 0.24258486 0.24847839\n",
      "  0.17499553 0.17766704 0.24085318 0.2443742 ]\n",
      " [0.19216123 0.15676673 0.13004037 0.10897634 0.23444369 0.23837914\n",
      "  0.1728364  0.21572356 0.13847616 0.24719255]\n",
      " [0.20589286 0.24087272 0.2343762  0.17974243 0.24995037 0.23887497\n",
      "  0.24972367 0.244368   0.22644732 0.24195322]\n",
      " [0.22373854 0.24209105 0.21283604 0.12824345 0.24804277 0.24017612\n",
      "  0.13697171 0.23707822 0.20486627 0.24983143]\n",
      " [0.21951286 0.24896309 0.18365791 0.17456074 0.24014941 0.2228372\n",
      "  0.20801126 0.23017461 0.24403025 0.24980294]\n",
      " [0.18121591 0.20542863 0.23692257 0.14572396 0.15026039 0.11352476\n",
      "  0.17991893 0.24798756 0.19010232 0.19161551]\n",
      " [0.24010956 0.17574727 0.24730833 0.19872456 0.24222772 0.22122108\n",
      "  0.24999311 0.12296461 0.24899603 0.2401662 ]\n",
      " [0.11459616 0.16370329 0.17113689 0.19937535 0.1804575  0.10956286\n",
      "  0.23960511 0.21809352 0.11126897 0.15099517]\n",
      " [0.11591545 0.20497536 0.20882482 0.11233938 0.24556408 0.21370987\n",
      "  0.20135232 0.24850424 0.22783749 0.20356341]\n",
      " [0.24134901 0.18742607 0.24452226 0.16575947 0.22211691 0.2486058\n",
      "  0.23852882 0.11747442 0.22375056 0.23990395]\n",
      " [0.21632674 0.2326715  0.22360264 0.24993669 0.2263413  0.22344985\n",
      "  0.2303208  0.24730772 0.24044927 0.18802002]\n",
      " [0.14997521 0.23831135 0.24827175 0.22639799 0.07733237 0.20159841\n",
      "  0.20438472 0.18577078 0.16676775 0.2371427 ]\n",
      " [0.24970917 0.129404   0.21830364 0.21174011 0.24939517 0.22438678\n",
      "  0.18486401 0.18924711 0.182894   0.23839221]]\n"
     ]
    }
   ],
   "source": [
    "# Sigmoid Layer Test\n",
    "sigmoid = Sigmoid()\n",
    "print(\"\\nTesting Sigmoid Forward:\")\n",
    "sigmoid_out = sigmoid.forward(x)\n",
    "print(\"Sigmoid forward output:\\n\", sigmoid_out)\n",
    "\n",
    "print(\"\\nTesting Sigmoid Backward:\")\n",
    "sigmoid_grad = sigmoid.backward(np.ones_like(sigmoid_out))\n",
    "print(\"Sigmoid backward output:\\n\", sigmoid_grad)\n"
   ]
  },
  {
   "cell_type": "code",
   "execution_count": 19,
   "metadata": {},
   "outputs": [
    {
     "name": "stdout",
     "output_type": "stream",
     "text": [
      "\n",
      "Testing Affine Forward:\n",
      "Affine forward output:\n",
      " [[ 1.8745361   0.49548017 -0.69506996 -6.31404678 -4.10424174]\n",
      " [ 1.52744623 -1.50692673 -0.27655007 -2.73359999  0.13922074]\n",
      " [ 1.58139716 -6.44036549 -2.48635365 -3.15178128  1.26997295]\n",
      " [-2.30767951  3.20867994  1.92553476  2.96013613  1.9253457 ]\n",
      " [ 3.30014263 -0.55522471 -1.44580879  1.46228219  0.06596629]\n",
      " [ 0.41434012 -1.03429282 -0.42795897  0.59051031  1.49510085]\n",
      " [ 1.87613267  0.8445724   0.47086808  2.59130802 -0.75296382]\n",
      " [ 3.06755026  2.5472484   1.98583101 -1.24017688 -5.23639941]\n",
      " [-4.73418356 -5.18281143 -3.26227322 -5.98528705  3.70374241]\n",
      " [ 0.72571532 -2.33104221 -0.85920599  3.10188057  3.48593941]\n",
      " [-6.81427492  2.39792711  4.17823685  0.19438888 -0.21260052]\n",
      " [-2.85272726  0.65160195 -0.85106253 -0.31477817 -0.36003841]\n",
      " [ 0.79701199  3.43304807  4.60074459  4.18029527 -0.07034747]\n",
      " [ 1.2025924  -1.89600031  0.11512863  0.2742057   1.89822308]\n",
      " [ 2.47416665 -6.83197773 -3.23856517 -3.97879376  4.02655318]\n",
      " [ 2.09976024 -0.48075256 -3.83697282 -1.39259777 -2.19266467]]\n"
     ]
    }
   ],
   "source": [
    "# Affine Layer Test\n",
    "affine = Affine(w, b)\n",
    "print(\"\\nTesting Affine Forward:\")\n",
    "affine_out = affine.forward(x)\n",
    "print(\"Affine forward output:\\n\", affine_out)"
   ]
  },
  {
   "cell_type": "code",
   "execution_count": 20,
   "metadata": {},
   "outputs": [
    {
     "name": "stdout",
     "output_type": "stream",
     "text": [
      "\n",
      "Testing Affine Backward:\n",
      "Affine backward dx:\n",
      " [[ 1.24303613 -0.19565106  0.41114865 -1.24941827 -3.97073531 -1.85082432\n",
      "  -1.7099057   4.92351227  1.78649384 -2.19753887]\n",
      " [ 1.24303613 -0.19565106  0.41114865 -1.24941827 -3.97073531 -1.85082432\n",
      "  -1.7099057   4.92351227  1.78649384 -2.19753887]\n",
      " [ 1.24303613 -0.19565106  0.41114865 -1.24941827 -3.97073531 -1.85082432\n",
      "  -1.7099057   4.92351227  1.78649384 -2.19753887]\n",
      " [ 1.24303613 -0.19565106  0.41114865 -1.24941827 -3.97073531 -1.85082432\n",
      "  -1.7099057   4.92351227  1.78649384 -2.19753887]\n",
      " [ 1.24303613 -0.19565106  0.41114865 -1.24941827 -3.97073531 -1.85082432\n",
      "  -1.7099057   4.92351227  1.78649384 -2.19753887]\n",
      " [ 1.24303613 -0.19565106  0.41114865 -1.24941827 -3.97073531 -1.85082432\n",
      "  -1.7099057   4.92351227  1.78649384 -2.19753887]\n",
      " [ 1.24303613 -0.19565106  0.41114865 -1.24941827 -3.97073531 -1.85082432\n",
      "  -1.7099057   4.92351227  1.78649384 -2.19753887]\n",
      " [ 1.24303613 -0.19565106  0.41114865 -1.24941827 -3.97073531 -1.85082432\n",
      "  -1.7099057   4.92351227  1.78649384 -2.19753887]\n",
      " [ 1.24303613 -0.19565106  0.41114865 -1.24941827 -3.97073531 -1.85082432\n",
      "  -1.7099057   4.92351227  1.78649384 -2.19753887]\n",
      " [ 1.24303613 -0.19565106  0.41114865 -1.24941827 -3.97073531 -1.85082432\n",
      "  -1.7099057   4.92351227  1.78649384 -2.19753887]\n",
      " [ 1.24303613 -0.19565106  0.41114865 -1.24941827 -3.97073531 -1.85082432\n",
      "  -1.7099057   4.92351227  1.78649384 -2.19753887]\n",
      " [ 1.24303613 -0.19565106  0.41114865 -1.24941827 -3.97073531 -1.85082432\n",
      "  -1.7099057   4.92351227  1.78649384 -2.19753887]\n",
      " [ 1.24303613 -0.19565106  0.41114865 -1.24941827 -3.97073531 -1.85082432\n",
      "  -1.7099057   4.92351227  1.78649384 -2.19753887]\n",
      " [ 1.24303613 -0.19565106  0.41114865 -1.24941827 -3.97073531 -1.85082432\n",
      "  -1.7099057   4.92351227  1.78649384 -2.19753887]\n",
      " [ 1.24303613 -0.19565106  0.41114865 -1.24941827 -3.97073531 -1.85082432\n",
      "  -1.7099057   4.92351227  1.78649384 -2.19753887]\n",
      " [ 1.24303613 -0.19565106  0.41114865 -1.24941827 -3.97073531 -1.85082432\n",
      "  -1.7099057   4.92351227  1.78649384 -2.19753887]]\n",
      "Affine backward dw:\n",
      " [[-2.14794276 -2.14794276 -2.14794276 -2.14794276 -2.14794276]\n",
      " [ 4.89666612  4.89666612  4.89666612  4.89666612  4.89666612]\n",
      " [-2.58634384 -2.58634384 -2.58634384 -2.58634384 -2.58634384]\n",
      " [ 0.93530788  0.93530788  0.93530788  0.93530788  0.93530788]\n",
      " [ 5.6329672   5.6329672   5.6329672   5.6329672   5.6329672 ]\n",
      " [ 3.11838616  3.11838616  3.11838616  3.11838616  3.11838616]\n",
      " [ 2.1111066   2.1111066   2.1111066   2.1111066   2.1111066 ]\n",
      " [ 4.00410588  4.00410588  4.00410588  4.00410588  4.00410588]\n",
      " [-1.91366332 -1.91366332 -1.91366332 -1.91366332 -1.91366332]\n",
      " [ 2.53034631  2.53034631  2.53034631  2.53034631  2.53034631]]\n",
      "Affine backward db:\n",
      " [16. 16. 16. 16. 16.]\n"
     ]
    }
   ],
   "source": [
    "print(\"\\nTesting Affine Backward:\")\n",
    "affine_grad = affine.backward(np.ones_like(affine_out))\n",
    "print(\"Affine backward dx:\\n\", affine_grad)\n",
    "print(\"Affine backward dw:\\n\", affine.dw)\n",
    "print(\"Affine backward db:\\n\", affine.db)"
   ]
  },
  {
   "cell_type": "markdown",
   "metadata": {},
   "source": [
    "training steps"
   ]
  },
  {
   "cell_type": "code",
   "execution_count": 17,
   "metadata": {},
   "outputs": [
    {
     "name": "stdout",
     "output_type": "stream",
     "text": [
      "File: train-images-idx3-ubyte.gz already exists.\n",
      "File: train-labels-idx1-ubyte.gz already exists.\n",
      "File: t10k-images-idx3-ubyte.gz already exists.\n",
      "File: t10k-labels-idx1-ubyte.gz already exists.\n",
      "Pickle: dataset/mnist.pkl already exists.\n",
      "Loading...\n",
      "Done.\n",
      "(60000, 784)\n"
     ]
    }
   ],
   "source": [
    "from mnist import Mnist\n",
    "mnist = Mnist()\n",
    "(x_train, y_train), (x_test, y_test) = mnist.load()\n",
    "print(x_train.shape)"
   ]
  },
  {
   "cell_type": "code",
   "execution_count": 18,
   "metadata": {},
   "outputs": [],
   "source": [
    "from two_layer_net_with_back_prop import TwoLayerNetWithBackProp\n",
    "network = TwoLayerNetWithBackProp(input_size=28*28, hidden_size=100, output_size=10)\n",
    "iterations = 10000\n",
    "train_size = x_train.shape[0]\n",
    "batch_size = 100\n",
    "lr = 0.1\n",
    "\n",
    "iter_per_epoch = int(max(train_size/batch_size, 1))\n",
    "train_losses = []\n",
    "train_accs = []\n",
    "test_accs = []"
   ]
  },
  {
   "cell_type": "code",
   "execution_count": 19,
   "metadata": {},
   "outputs": [
    {
     "name": "stderr",
     "output_type": "stream",
     "text": [
      "d:\\hw-pattern\\errors.py:8: RuntimeWarning: invalid value encountered in log\n",
      "  return -np.sum(t*np.log(y + delta)) / batch_size\n"
     ]
    },
    {
     "name": "stdout",
     "output_type": "stream",
     "text": [
      "train acc, test_acc : 0.20251666666666668, 0.2096\n",
      "train acc, test_acc : 0.9079333333333334, 0.9167\n",
      "train acc, test_acc : 0.9319, 0.9361\n",
      "train acc, test_acc : 0.9419833333333333, 0.9429\n",
      "train acc, test_acc : 0.94955, 0.9479\n",
      "train acc, test_acc : 0.956, 0.9543\n",
      "train acc, test_acc : 0.9588166666666667, 0.9548\n",
      "train acc, test_acc : 0.96375, 0.9591\n",
      "train acc, test_acc : 0.9647, 0.96\n",
      "train acc, test_acc : 0.96705, 0.9635\n",
      "train acc, test_acc : 0.9694, 0.9637\n",
      "train acc, test_acc : 0.9705, 0.9664\n",
      "train acc, test_acc : 0.97055, 0.9649\n",
      "train acc, test_acc : 0.9712, 0.9656\n",
      "train acc, test_acc : 0.97315, 0.9674\n",
      "train acc, test_acc : 0.9732666666666666, 0.9677\n",
      "train acc, test_acc : 0.9740833333333333, 0.9693\n"
     ]
    }
   ],
   "source": [
    "for i in range(iterations):\n",
    "    batch_mask = np.random.choice(train_size, batch_size)\n",
    "    x_batch = x_train[batch_mask]\n",
    "    y_batch = y_train[batch_mask]\n",
    "\n",
    "    grads = network.gradient(x_batch, y_batch)\n",
    "\n",
    "    for key in ('w1', 'b1', 'w2', 'b2'):\n",
    "        network.params[key] -= lr*grads[key]\n",
    "\n",
    "    ## this is for plotting losses over time\n",
    "    train_losses.append(network.loss(x_batch, y_batch))\n",
    "\n",
    "    if i%iter_per_epoch == 0:\n",
    "        train_acc = network.accuracy(x_train, y_train)\n",
    "        train_accs.append(train_acc)\n",
    "        test_acc = network.accuracy(x_test, y_test)\n",
    "        test_accs.append(test_acc)\n",
    "        print(f'train acc, test_acc : {train_acc}, {test_acc}')"
   ]
  },
  {
   "cell_type": "code",
   "execution_count": 20,
   "metadata": {},
   "outputs": [
    {
     "data": {
      "image/png": "[encoded data removed]",
      "text/plain": [
       "<Figure size 640x480 with 1 Axes>"
      ]
     },
     "metadata": {},
     "output_type": "display_data"
    }
   ],
   "source": [
    "import matplotlib.pyplot as plt\n",
    "markers = {'train': 'o', 'test': 's'}\n",
    "x = np.arange(len(train_accs))\n",
    "plt.plot(x, train_accs, label='train acc')\n",
    "plt.plot(x, test_accs, label='test acc', linestyle='--')\n",
    "plt.xlabel(\"epochs\")\n",
    "plt.ylabel(\"accuracy\")\n",
    "plt.ylim(0, 1.0)\n",
    "plt.legend(loc='lower right')\n",
    "plt.show()"
   ]
  },
  {
   "cell_type": "code",
   "execution_count": null,
   "metadata": {},
   "outputs": [],
   "source": []
  }
 ],
 "metadata": {
  "kernelspec": {
   "display_name": "project",
   "language": "python",
   "name": "python3"
  },
  "language_info": {
   "codemirror_mode": {
    "name": "ipython",
    "version": 3
   },
   "file_extension": ".py",
   "mimetype": "text/x-python",
   "name": "python",
   "nbconvert_exporter": "python",
   "pygments_lexer": "ipython3",
   "version": "3.12.6"
  }
 },
 "nbformat": 4,
 "nbformat_minor": 2
}
