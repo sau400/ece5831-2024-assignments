{
 "cells": [
  {
   "cell_type": "code",
   "execution_count": 9,
   "id": "03a5ef0c",
   "metadata": {},
   "outputs": [],
   "source": [
    "from logicGate import LogicGate "
   ]
  },
  {
   "cell_type": "code",
   "execution_count": 10,
   "id": "a6bcca8b",
   "metadata": {},
   "outputs": [],
   "source": [
    "lg = LogicGate()"
   ]
  },
  {
   "cell_type": "code",
   "execution_count": 11,
   "id": "3ed00d0d",
   "metadata": {},
   "outputs": [
    {
     "data": {
      "text/plain": [
       "0"
      ]
     },
     "execution_count": 11,
     "metadata": {},
     "output_type": "execute_result"
    }
   ],
   "source": [
    "lg.and_gate(.01,0.3)"
   ]
  },
  {
   "cell_type": "markdown",
   "id": "e2b033e9",
   "metadata": {},
   "source": [
    "The AND gate is a basic digital logic gate that performs a logical conjunction on two or more inputs. The output of an AND gate is true (or 1) if and only if all of its inputs are true (or 1). If any input is false (0), the output is false (0)."
   ]
  },
  {
   "cell_type": "code",
   "execution_count": 12,
   "id": "303eca6a",
   "metadata": {},
   "outputs": [
    {
     "data": {
      "text/plain": [
       "1"
      ]
     },
     "execution_count": 12,
     "metadata": {},
     "output_type": "execute_result"
    }
   ],
   "source": [
    "lg.nand_gate(0.5,0.6)"
   ]
  },
  {
   "cell_type": "markdown",
   "id": "3fb7fcd4",
   "metadata": {},
   "source": [
    "A NAND gate (Not AND gate) is a fundamental digital logic gate that produces an output which is the inverse of the AND gate. While an AND gate outputs a high signal (1) only if all inputs are high, the NAND gate does the opposite: it outputs a low signal (0) only when all inputs are high, and a high signal (1) for all other input combinations."
   ]
  },
  {
   "cell_type": "code",
   "execution_count": 13,
   "id": "9528d175",
   "metadata": {},
   "outputs": [
    {
     "data": {
      "text/plain": [
       "0"
      ]
     },
     "execution_count": 13,
     "metadata": {},
     "output_type": "execute_result"
    }
   ],
   "source": [
    "lg.nor_gate(0.9,0.1)"
   ]
  },
  {
   "cell_type": "markdown",
   "id": "31478e96",
   "metadata": {},
   "source": [
    "A NOR gate (Not OR gate) is a fundamental digital logic gate that performs the negation of the OR operation. It outputs a high signal (1) only when all inputs are low (0). If any input is high (1), the output will be low (0)."
   ]
  },
  {
   "cell_type": "code",
   "execution_count": 14,
   "id": "7b78a0a4",
   "metadata": {},
   "outputs": [
    {
     "data": {
      "text/plain": [
       "0"
      ]
     },
     "execution_count": 14,
     "metadata": {},
     "output_type": "execute_result"
    }
   ],
   "source": [
    "lg.or_gate(0.2,0.6)"
   ]
  },
  {
   "cell_type": "markdown",
   "id": "28aebf43",
   "metadata": {},
   "source": [
    "The OR gate is a basic digital logic gate that implements logical disjunction. It outputs a high signal (1) if at least one of its inputs is high (1). The OR gate is fundamental in digital logic circuits, allowing multiple conditions to be true for the output to be high."
   ]
  },
  {
   "cell_type": "code",
   "execution_count": 15,
   "id": "5e93a3f6",
   "metadata": {},
   "outputs": [
    {
     "data": {
      "text/plain": [
       "1"
      ]
     },
     "execution_count": 15,
     "metadata": {},
     "output_type": "execute_result"
    }
   ],
   "source": [
    "lg.xor_gate(0.5,0.6)"
   ]
  },
  {
   "cell_type": "markdown",
   "id": "7a1d5429",
   "metadata": {},
   "source": [
    "The XOR gate (Exclusive OR gate) is a digital logic gate that outputs a high signal (1) if the number of true inputs is odd. Specifically, for two inputs, the XOR gate outputs true (1) only if the inputs are different. If both inputs are the same (either both 0 or both 1), the output will be false (0)."
   ]
  },
  {
   "cell_type": "code",
   "execution_count": 16,
   "id": "093ba36d",
   "metadata": {},
   "outputs": [],
   "source": [
    "tests = [[0,0],[0,1],[1,0],[1,1]]"
   ]
  },
  {
   "cell_type": "code",
   "execution_count": 17,
   "id": "e241ae1c",
   "metadata": {},
   "outputs": [
    {
     "name": "stdout",
     "output_type": "stream",
     "text": [
      "0 for cases 0,0\n",
      "0 for cases 0,1\n",
      "0 for cases 1,0\n",
      "1 for cases 1,1\n"
     ]
    }
   ],
   "source": [
    "for test in tests:\n",
    "    y = lg.and_gate(test[0],test[1])\n",
    "    print(y,f\"for cases {test[0]},{test[1]}\")"
   ]
  },
  {
   "cell_type": "code",
   "execution_count": 18,
   "id": "3bb7a03a",
   "metadata": {},
   "outputs": [
    {
     "name": "stdout",
     "output_type": "stream",
     "text": [
      "1 for test case 0,0\n",
      "1 for test case 0,1\n",
      "1 for test case 1,0\n",
      "0 for test case 1,1\n"
     ]
    }
   ],
   "source": [
    "for test in tests:\n",
    "    y = lg.nand_gate(test[0],test[1])\n",
    "    print(y,f'for test case {test[0]},{test[1]}')"
   ]
  },
  {
   "cell_type": "code",
   "execution_count": 19,
   "id": "b70f163e",
   "metadata": {},
   "outputs": [
    {
     "name": "stdout",
     "output_type": "stream",
     "text": [
      "1 for test case 0,0\n",
      "0 for test case 0,1\n",
      "0 for test case 1,0\n",
      "0 for test case 1,1\n"
     ]
    }
   ],
   "source": [
    "for test in tests:\n",
    "    y = lg.nor_gate(test[0],test[1])\n",
    "    print(y,f'for test case {test[0]},{test[1]}')"
   ]
  },
  {
   "cell_type": "code",
   "execution_count": 20,
   "id": "168d2919",
   "metadata": {},
   "outputs": [
    {
     "name": "stdout",
     "output_type": "stream",
     "text": [
      "0 for test case 0,0\n",
      "1 for test case 0,1\n",
      "1 for test case 1,0\n",
      "1 for test case 1,1\n"
     ]
    }
   ],
   "source": [
    "for test in tests:\n",
    "    y = lg.or_gate(test[0],test[1])\n",
    "    print(y,f'for test case {test[0]},{test[1]}')"
   ]
  },
  {
   "cell_type": "code",
   "execution_count": 21,
   "id": "a42499fe",
   "metadata": {},
   "outputs": [
    {
     "name": "stdout",
     "output_type": "stream",
     "text": [
      "0 for test case 0,0\n",
      "1 for test case 0,1\n",
      "1 for test case 1,0\n",
      "0 for test case 1,1\n"
     ]
    }
   ],
   "source": [
    "for test in tests:\n",
    "    y = lg.xor_gate(test[0],test[1])\n",
    "    print(y,f'for test case {test[0]},{test[1]}')"
   ]
  }
 ],
 "metadata": {
  "kernelspec": {
   "display_name": "Python 3 (ipykernel)",
   "language": "python",
   "name": "python3"
  },
  "language_info": {
   "codemirror_mode": {
    "name": "ipython",
    "version": 3
   },
   "file_extension": ".py",
   "mimetype": "text/x-python",
   "name": "python",
   "nbconvert_exporter": "python",
   "pygments_lexer": "ipython3",
   "version": "3.9.12"
  }
 },
 "nbformat": 4,
 "nbformat_minor": 5
}
