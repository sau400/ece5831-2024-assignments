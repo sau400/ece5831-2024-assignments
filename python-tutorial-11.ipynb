{
 "cells": [
  {
   "cell_type": "markdown",
   "id": "33c2bf71",
   "metadata": {},
   "source": [
    "# Modules & Packages"
   ]
  },
  {
   "cell_type": "code",
   "execution_count": 1,
   "id": "2b2d23d3",
   "metadata": {},
   "outputs": [
    {
     "name": "stdout",
     "output_type": "stream",
     "text": [
      "I am drawing\n",
      "None\n"
     ]
    }
   ],
   "source": [
    "from drawing.draw import Draw\n",
    "\n",
    "drawing = Draw(10,20)\n",
    "print(drawing.drawing())"
   ]
  },
  {
   "cell_type": "code",
   "execution_count": 2,
   "id": "13a9f161",
   "metadata": {},
   "outputs": [
    {
     "name": "stdout",
     "output_type": "stream",
     "text": [
      "saurabh omkar\n"
     ]
    }
   ],
   "source": [
    "from gaming.game import Game\n",
    "\n",
    "gaming = Game(\"saurabh\",\"aniket\")\n",
    "gaming.played_players()"
   ]
  },
  {
   "cell_type": "code",
   "execution_count": 3,
   "id": "2b40b692",
   "metadata": {},
   "outputs": [
    {
     "name": "stdout",
     "output_type": "stream",
     "text": [
      "saurabh is a black motor worth $100000.00.\n"
     ]
    }
   ],
   "source": [
    "from Vehicle.saurabh import Vehicle\n",
    "\n",
    "my_vehicle = Vehicle(\"audi\",\"adjustable\",\"white\",200000)\n",
    "print(my_vehicle.description())"
   ]
  },
  {
   "cell_type": "code",
   "execution_count": null,
   "id": "e1c47a85",
   "metadata": {},
   "outputs": [],
   "source": []
  }
 ],
 "metadata": {
  "kernelspec": {
   "display_name": "Python 3 (ipykernel)",
   "language": "python",
   "name": "python3"
  },
  "language_info": {
   "codemirror_mode": {
    "name": "ipython",
    "version": 3
   },
   "file_extension": ".py",
   "mimetype": "text/x-python",
   "name": "python",
   "nbconvert_exporter": "python",
   "pygments_lexer": "ipython3",
   "version": "3.9.12"
  }
 },
 "nbformat": 4,
 "nbformat_minor": 5
}
