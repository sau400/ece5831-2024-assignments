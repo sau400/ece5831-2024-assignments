{
 "cells": [
  {
   "cell_type": "markdown",
   "id": "3f92208d",
   "metadata": {},
   "source": [
    "# Working with files"
   ]
  },
  {
   "cell_type": "code",
   "execution_count": 1,
   "id": "8a82b16b",
   "metadata": {},
   "outputs": [],
   "source": [
    "with open(r\"C:\\Users\\s8908\\text_data\") as f:\n",
    "    contents = f.readlines()"
   ]
  },
  {
   "cell_type": "code",
   "execution_count": 2,
   "id": "6fbf9691",
   "metadata": {},
   "outputs": [
    {
     "name": "stdout",
     "output_type": "stream",
     "text": [
      "['Satistied conveying an dependent contented he gentleman agreeable do be. Harrant\\n', 'private blushes removed an in equally totally if. Delivered dejection necessary\\n', 'objection do mr prevailed. Mr feeling do chiefly cordial in do. Hater timed folly\\n', 'right aware if oh truth. Imprudence attachment him his for sympathize. Large above\\n', 'be to means. Dashwood do provided stronger is. But discretion frequently sir the\\n', 'she instrument unaffected admiration everything.\\n', '\\n', 'Her extensive perceived may any sincerity extremity. Indeed add rather may pretty\\n', 'see, Old propriety delighted explained perceived otherwise objection saw ten her.\\n', 'Qoubt merit sir the right these alone keeps. By sometimes intention smallness he\\n', 'northward. Consisted we otherwise arranging commanded discovery it explained.\\n', 'Qoes cold even song like tuo yet been. Literature interested announcing for\\n', 'terminated him inquietude day shy. Himself he fertile chicken perhaps waiting if\\n', 'highest no it, Continued promotion has consulted fat improving mot way.\\n', '\\n', 'Far quitting dwelling graceful the likewise received building. An fact so to that\\n', 'show am shed sold cold. Unaffected remarkably get yet introduced excellence\\n', 'terminated led. Result either design san she esteem and. (in ashamed no inhabit\\n', 'ferrars it ye besides resolve. Quin judgment directly few trifling. Elderly as\\n', 'pursuit at regular do parlors. Rank what haz into fond she.\\n', '\\n', '(4 friendship on inhabiting diminution discovered az. [id friendly eat breeding\\n', 'building few nor. Ghject he barton no effect played valley afford. Period so to\\n', 'oppose we little seeing or branch. Announcing contrasted not imprudence add\\n', 'frequently you possession mrs. Period saw his houses square and misery. Hour had\\n', 'held lain give yet.\\n']\n"
     ]
    }
   ],
   "source": [
    "print(contents)"
   ]
  },
  {
   "cell_type": "code",
   "execution_count": 5,
   "id": "95a0c109",
   "metadata": {},
   "outputs": [
    {
     "name": "stdout",
     "output_type": "stream",
     "text": [
      "Satistied conveying an dependent contented he gentleman agreeable do be. Harrant\n",
      "\n",
      "private blushes removed an in equally totally if. Delivered dejection necessary\n",
      "\n",
      "objection do mr prevailed. Mr feeling do chiefly cordial in do. Hater timed folly\n",
      "\n",
      "right aware if oh truth. Imprudence attachment him his for sympathize. Large above\n",
      "\n",
      "be to means. Dashwood do provided stronger is. But discretion frequently sir the\n",
      "\n",
      "she instrument unaffected admiration everything.\n",
      "\n",
      "\n",
      "\n",
      "Her extensive perceived may any sincerity extremity. Indeed add rather may pretty\n",
      "\n",
      "see, Old propriety delighted explained perceived otherwise objection saw ten her.\n",
      "\n",
      "Qoubt merit sir the right these alone keeps. By sometimes intention smallness he\n",
      "\n",
      "northward. Consisted we otherwise arranging commanded discovery it explained.\n",
      "\n",
      "Qoes cold even song like tuo yet been. Literature interested announcing for\n",
      "\n",
      "terminated him inquietude day shy. Himself he fertile chicken perhaps waiting if\n",
      "\n",
      "highest no it, Continued promotion has consulted fat improving mot way.\n",
      "\n",
      "\n",
      "\n",
      "Far quitting dwelling graceful the likewise received building. An fact so to that\n",
      "\n",
      "show am shed sold cold. Unaffected remarkably get yet introduced excellence\n",
      "\n",
      "terminated led. Result either design san she esteem and. (in ashamed no inhabit\n",
      "\n",
      "ferrars it ye besides resolve. Quin judgment directly few trifling. Elderly as\n",
      "\n",
      "pursuit at regular do parlors. Rank what haz into fond she.\n",
      "\n",
      "\n",
      "\n",
      "(4 friendship on inhabiting diminution discovered az. [id friendly eat breeding\n",
      "\n",
      "building few nor. Ghject he barton no effect played valley afford. Period so to\n",
      "\n",
      "oppose we little seeing or branch. Announcing contrasted not imprudence add\n",
      "\n",
      "frequently you possession mrs. Period saw his houses square and misery. Hour had\n",
      "\n",
      "held lain give yet.\n",
      "\n"
     ]
    }
   ],
   "source": [
    "with open(r\"C:\\Users\\s8908\\text_data\") as f:\n",
    "    [print(line) for line in f.readlines()]"
   ]
  },
  {
   "cell_type": "code",
   "execution_count": 6,
   "id": "fcc45781",
   "metadata": {},
   "outputs": [
    {
     "name": "stdout",
     "output_type": "stream",
     "text": [
      "Satistied conveying an dependent contented he gentleman agreeable do be. Harrant\n",
      "private blushes removed an in equally totally if. Delivered dejection necessary\n",
      "objection do mr prevailed. Mr feeling do chiefly cordial in do. Hater timed folly\n",
      "right aware if oh truth. Imprudence attachment him his for sympathize. Large above\n",
      "be to means. Dashwood do provided stronger is. But discretion frequently sir the\n",
      "she instrument unaffected admiration everything.\n",
      "\n",
      "Her extensive perceived may any sincerity extremity. Indeed add rather may pretty\n",
      "see, Old propriety delighted explained perceived otherwise objection saw ten her.\n",
      "Qoubt merit sir the right these alone keeps. By sometimes intention smallness he\n",
      "northward. Consisted we otherwise arranging commanded discovery it explained.\n",
      "Qoes cold even song like tuo yet been. Literature interested announcing for\n",
      "terminated him inquietude day shy. Himself he fertile chicken perhaps waiting if\n",
      "highest no it, Continued promotion has consulted fat improving mot way.\n",
      "\n",
      "Far quitting dwelling graceful the likewise received building. An fact so to that\n",
      "show am shed sold cold. Unaffected remarkably get yet introduced excellence\n",
      "terminated led. Result either design san she esteem and. (in ashamed no inhabit\n",
      "ferrars it ye besides resolve. Quin judgment directly few trifling. Elderly as\n",
      "pursuit at regular do parlors. Rank what haz into fond she.\n",
      "\n",
      "(4 friendship on inhabiting diminution discovered az. [id friendly eat breeding\n",
      "building few nor. Ghject he barton no effect played valley afford. Period so to\n",
      "oppose we little seeing or branch. Announcing contrasted not imprudence add\n",
      "frequently you possession mrs. Period saw his houses square and misery. Hour had\n",
      "held lain give yet.\n"
     ]
    }
   ],
   "source": [
    "with open(r\"C:\\Users\\s8908\\text_data\") as f:\n",
    "    while True:\n",
    "        line = f.readline()\n",
    "        if not line:\n",
    "            break\n",
    "        print(line.strip())"
   ]
  },
  {
   "cell_type": "markdown",
   "id": "3f407117",
   "metadata": {},
   "source": [
    "# Working Directory"
   ]
  },
  {
   "cell_type": "code",
   "execution_count": 7,
   "id": "5277c932",
   "metadata": {},
   "outputs": [
    {
     "name": "stdout",
     "output_type": "stream",
     "text": [
      "C:\\Users\\s8908\n"
     ]
    }
   ],
   "source": [
    "import os\n",
    "\n",
    "\n",
    "cwd = os.getcwd()\n",
    "print(cwd)"
   ]
  },
  {
   "cell_type": "code",
   "execution_count": 9,
   "id": "5de406ac",
   "metadata": {},
   "outputs": [
    {
     "name": "stdout",
     "output_type": "stream",
     "text": [
      "temp\\python\n",
      "('temp', 'python')\n"
     ]
    }
   ],
   "source": [
    "import os\n",
    "\n",
    "fp = os.path.join('temp', 'python')\n",
    "print(fp) \n",
    "\n",
    "pc = os.path.split(fp)\n",
    "print(pc)  "
   ]
  },
  {
   "cell_type": "code",
   "execution_count": 10,
   "id": "e6497334",
   "metadata": {},
   "outputs": [
    {
     "name": "stdout",
     "output_type": "stream",
     "text": [
      "C:\\temp\n"
     ]
    }
   ],
   "source": [
    "import os\n",
    "\n",
    "dir = os.path.join(\"C:\\\\\", \"temp\")\n",
    "print(dir)\n",
    "\n",
    "if os.path.exists(dir) or os.path.isdir(dir):\n",
    "    print(f'The {dir} is a directory')"
   ]
  },
  {
   "cell_type": "code",
   "execution_count": 12,
   "id": "08d8b8a8",
   "metadata": {},
   "outputs": [],
   "source": [
    "import os\n",
    "\n",
    "path = \"c:\\\\temp\"\n",
    "for root, dirs, files in os.walk(path):\n",
    "    print(\"{0} has {1} files\".format(root, len(files)))"
   ]
  },
  {
   "cell_type": "markdown",
   "id": "37926177",
   "metadata": {},
   "source": [
    "# Strings"
   ]
  },
  {
   "cell_type": "code",
   "execution_count": 13,
   "id": "34138782",
   "metadata": {},
   "outputs": [
    {
     "name": "stdout",
     "output_type": "stream",
     "text": [
      "Hello, John!\n"
     ]
    }
   ],
   "source": [
    "name = 'John'\n",
    "s = f'Hello, {name}!'\n",
    "print(s)"
   ]
  },
  {
   "cell_type": "code",
   "execution_count": 14,
   "id": "ad29f20d",
   "metadata": {},
   "outputs": [
    {
     "name": "stdout",
     "output_type": "stream",
     "text": [
      "Hello, JOHN!\n"
     ]
    }
   ],
   "source": [
    "name = 'John'\n",
    "s = F'Hello, {name.upper()}!'\n",
    "print(s)"
   ]
  },
  {
   "cell_type": "code",
   "execution_count": 15,
   "id": "ba7280b6",
   "metadata": {},
   "outputs": [
    {
     "name": "stdout",
     "output_type": "stream",
     "text": [
      "Hello, John Doe!\n"
     ]
    }
   ],
   "source": [
    "first_name = 'John'\n",
    "last_name = 'Doe'\n",
    "s = F'Hello, {first_name} {last_name}!'\n",
    "print(s)"
   ]
  },
  {
   "cell_type": "code",
   "execution_count": 16,
   "id": "21fa46ad",
   "metadata": {},
   "outputs": [
    {
     "name": "stdout",
     "output_type": "stream",
     "text": [
      "Hello, John Doe!\n"
     ]
    }
   ],
   "source": [
    "first_name = 'John'\n",
    "last_name = 'Doe'\n",
    "s = F'Hello, {\" \".join((first_name, last_name))}!'\n",
    "\n",
    "print(s)"
   ]
  },
  {
   "cell_type": "code",
   "execution_count": 17,
   "id": "12f70cd8",
   "metadata": {},
   "outputs": [
    {
     "name": "stdout",
     "output_type": "stream",
     "text": [
      "Hello John. You're learning Python at PythonTutorial.net.\n"
     ]
    }
   ],
   "source": [
    "name = 'John'\n",
    "website = 'PythonTutorial.net'\n",
    "\n",
    "message = (\n",
    "    f'Hello {name}. '\n",
    "    f\"You're learning Python at {website}.\" \n",
    ")\n",
    "\n",
    "print(message)"
   ]
  },
  {
   "cell_type": "code",
   "execution_count": 18,
   "id": "d995a695",
   "metadata": {},
   "outputs": [
    {
     "name": "stdout",
     "output_type": "stream",
     "text": [
      "Hello John. You're learning Python at PythonTutorial.net.\n"
     ]
    }
   ],
   "source": [
    "name = 'John'\n",
    "website = 'PythonTutorial.net'\n",
    "\n",
    "message = f'Hello {name}. ' \\\n",
    "          f\"You're learning Python at {website}.\" \n",
    "\n",
    "print(message)"
   ]
  },
  {
   "cell_type": "code",
   "execution_count": 19,
   "id": "7b5cd964",
   "metadata": {},
   "outputs": [
    {
     "name": "stdout",
     "output_type": "stream",
     "text": [
      "{3}\n"
     ]
    }
   ],
   "source": [
    "s = f'{{{1+2}}}'\n",
    "print(s)"
   ]
  },
  {
   "cell_type": "code",
   "execution_count": 20,
   "id": "b576d4ec",
   "metadata": {},
   "outputs": [
    {
     "name": "stdout",
     "output_type": "stream",
     "text": [
      "{{1+2}}\n"
     ]
    }
   ],
   "source": [
    "s = f'{{{{1+2}}}}'\n",
    "print(s)"
   ]
  },
  {
   "cell_type": "code",
   "execution_count": 21,
   "id": "f7b1b780",
   "metadata": {},
   "outputs": [
    {
     "name": "stdout",
     "output_type": "stream",
     "text": [
      "1,3\n"
     ]
    }
   ],
   "source": [
    "def inc(numbers, value):\n",
    "    numbers[0] += value\n",
    "    return numbers[0]\n",
    "\n",
    "numbers = [0]\n",
    "\n",
    "s = f'{inc(numbers,1)},{inc(numbers,2)}'\n",
    "print(s)"
   ]
  },
  {
   "cell_type": "code",
   "execution_count": 22,
   "id": "37504cad",
   "metadata": {},
   "outputs": [
    {
     "name": "stdout",
     "output_type": "stream",
     "text": [
      "10\n"
     ]
    }
   ],
   "source": [
    "number = 16\n",
    "s = f'{number:x}'\n",
    "print(s)  "
   ]
  },
  {
   "cell_type": "code",
   "execution_count": 23,
   "id": "75672f95",
   "metadata": {},
   "outputs": [
    {
     "name": "stdout",
     "output_type": "stream",
     "text": [
      " 12.59%\n",
      " 12.6%\n"
     ]
    }
   ],
   "source": [
    "number = 0.1259\n",
    "s = f'{number: .2%}'\n",
    "print(s)\n",
    "\n",
    "s = f'{number: .1%}'\n",
    "print(s) "
   ]
  },
  {
   "cell_type": "code",
   "execution_count": null,
   "id": "54a95800",
   "metadata": {},
   "outputs": [],
   "source": []
  }
 ],
 "metadata": {
  "kernelspec": {
   "display_name": "Python 3 (ipykernel)",
   "language": "python",
   "name": "python3"
  },
  "language_info": {
   "codemirror_mode": {
    "name": "ipython",
    "version": 3
   },
   "file_extension": ".py",
   "mimetype": "text/x-python",
   "name": "python",
   "nbconvert_exporter": "python",
   "pygments_lexer": "ipython3",
   "version": "3.9.12"
  }
 },
 "nbformat": 4,
 "nbformat_minor": 5
}
