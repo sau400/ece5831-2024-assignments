{
 "cells": [
  {
   "cell_type": "markdown",
   "id": "a78b6a40",
   "metadata": {},
   "source": [
    "# Data Science Tutorials"
   ]
  },
  {
   "cell_type": "markdown",
   "id": "a7ea0119",
   "metadata": {},
   "source": [
    "# Numpy Arrays"
   ]
  },
  {
   "cell_type": "code",
   "execution_count": 2,
   "id": "cc5361c5",
   "metadata": {},
   "outputs": [
    {
     "name": "stdout",
     "output_type": "stream",
     "text": [
      "[1.87 1.87 1.82 1.91 1.9  1.85] [81.65 97.52 95.25 92.98 86.18 88.45] <class 'numpy.ndarray'> <class 'numpy.ndarray'>\n"
     ]
    }
   ],
   "source": [
    "height = [1.87,  1.87, 1.82, 1.91, 1.90, 1.85]\n",
    "weight = [81.65, 97.52, 95.25, 92.98, 86.18, 88.45]\n",
    "# Importing numpy \n",
    "import numpy as np  \n",
    "\n",
    "np_height = np.array(height)\n",
    "np_weight = np.array(weight)\n",
    "print(np_height,np_weight,type(np_height),type(np_weight))"
   ]
  },
  {
   "cell_type": "code",
   "execution_count": 4,
   "id": "a650cc7b",
   "metadata": {},
   "outputs": [
    {
     "name": "stdout",
     "output_type": "stream",
     "text": [
      "[23.34925219 27.88755755 28.75558507 25.48723993 23.87257618 25.84368152]\n"
     ]
    },
    {
     "data": {
      "text/plain": [
       "array([23.34925219, 27.88755755, 28.75558507, 25.48723993, 23.87257618,\n",
       "       25.84368152])"
      ]
     },
     "execution_count": 4,
     "metadata": {},
     "output_type": "execute_result"
    }
   ],
   "source": [
    "bmi = np_weight / np_height ** 2\n",
    "print(bmi)\n",
    "bmi[bmi > 23]"
   ]
  },
  {
   "cell_type": "code",
   "execution_count": 5,
   "id": "3766db9c",
   "metadata": {},
   "outputs": [
    {
     "data": {
      "text/plain": [
       "numpy.ndarray"
      ]
     },
     "execution_count": 5,
     "metadata": {},
     "output_type": "execute_result"
    }
   ],
   "source": [
    "type(bmi)"
   ]
  },
  {
   "cell_type": "code",
   "execution_count": 6,
   "id": "7be3126a",
   "metadata": {},
   "outputs": [
    {
     "name": "stdout",
     "output_type": "stream",
     "text": [
      "[163.3  195.04 190.5  185.96 172.36 176.9 ]\n"
     ]
    }
   ],
   "source": [
    "weight_kg = [81.65, 97.52, 95.25, 92.98, 86.18, 88.45]\n",
    "\n",
    "import numpy as np\n",
    "\n",
    "# Create a numpy array np_weight_kg from weight_kg\n",
    "np_weight_kg = np.array(weight_kg)    \n",
    "\n",
    "# Create np_weight_lbs from np_weight_kg\n",
    "np_weight_lbs = np_weight_kg*2\n",
    "# Print out np_weight_lbs\n",
    "print(np_weight_lbs)"
   ]
  },
  {
   "cell_type": "markdown",
   "id": "35ea458e",
   "metadata": {},
   "source": [
    "# Pandas Basics"
   ]
  },
  {
   "cell_type": "code",
   "execution_count": 7,
   "id": "52e8ebcf",
   "metadata": {},
   "outputs": [
    {
     "name": "stdout",
     "output_type": "stream",
     "text": [
      "        country    capital    area  population\n",
      "0        Brazil   Brasilia   8.516      200.40\n",
      "1        Russia     Moscow  17.100      143.50\n",
      "2         India  New Dehli   3.286     1252.00\n",
      "3         China    Beijing   9.597     1357.00\n",
      "4  South Africa   Pretoria   1.221       52.98\n"
     ]
    }
   ],
   "source": [
    "dict = {\"country\": [\"Brazil\", \"Russia\", \"India\", \"China\", \"South Africa\"],\n",
    "       \"capital\": [\"Brasilia\", \"Moscow\", \"New Dehli\", \"Beijing\", \"Pretoria\"],\n",
    "       \"area\": [8.516, 17.10, 3.286, 9.597, 1.221],\n",
    "       \"population\": [200.4, 143.5, 1252, 1357, 52.98] }\n",
    "\n",
    "import pandas as pd\n",
    "brics = pd.DataFrame(dict)\n",
    "print(brics)"
   ]
  },
  {
   "cell_type": "code",
   "execution_count": 8,
   "id": "fd238758",
   "metadata": {},
   "outputs": [
    {
     "name": "stdout",
     "output_type": "stream",
     "text": [
      "         country    capital    area  population\n",
      "BR        Brazil   Brasilia   8.516      200.40\n",
      "RU        Russia     Moscow  17.100      143.50\n",
      "IN         India  New Dehli   3.286     1252.00\n",
      "CH         China    Beijing   9.597     1357.00\n",
      "SA  South Africa   Pretoria   1.221       52.98\n"
     ]
    }
   ],
   "source": [
    "# Set the index for brics\n",
    "brics.index = [\"BR\", \"RU\", \"IN\", \"CH\", \"SA\"]\n",
    "\n",
    "# Print out brics with new index values\n",
    "print(brics)"
   ]
  },
  {
   "cell_type": "code",
   "execution_count": 9,
   "id": "9f41e80e",
   "metadata": {},
   "outputs": [
    {
     "name": "stdout",
     "output_type": "stream",
     "text": [
      "    Unnamed: 0  cars_per_cap        country  drives_right\n",
      "NaN         US           809  United States          True\n",
      "NaN        AUS           731      Australia         False\n",
      "NaN        JAP           588          Japan         False\n",
      "NaN         IN            18          India         False\n",
      "NaN         RU           200         Russia          True\n",
      "NaN        MOR            70        Morocco          True\n",
      "NaN         EG            45          Egypt          True\n"
     ]
    }
   ],
   "source": [
    "\n",
    "import pandas as pd\n",
    "\n",
    "# Importing cars.csv\n",
    "cars = pd.read_csv('cars.csv')\n",
    "\n",
    "# Print out cars\n",
    "print(cars)"
   ]
  },
  {
   "cell_type": "code",
   "execution_count": 10,
   "id": "29cb7222",
   "metadata": {},
   "outputs": [
    {
     "name": "stdout",
     "output_type": "stream",
     "text": [
      "     cars_per_cap        country\n",
      "NaN           809  United States\n",
      "NaN           731      Australia\n",
      "NaN           588          Japan\n",
      "NaN            18          India\n",
      "NaN           200         Russia\n",
      "NaN            70        Morocco\n",
      "NaN            45          Egypt\n"
     ]
    }
   ],
   "source": [
    "# Import pandas and cars.csv\n",
    "import pandas as pd\n",
    "cars = pd.read_csv('cars.csv', index_col = 0)\n",
    "\n",
    "# Print out DataFrame with country and drives_right columns\n",
    "print(cars[['cars_per_cap', 'country']])"
   ]
  },
  {
   "cell_type": "code",
   "execution_count": 26,
   "id": "4a1b881f",
   "metadata": {},
   "outputs": [
    {
     "name": "stdout",
     "output_type": "stream",
     "text": [
      "    Unnamed: 0  cars_per_cap        country  drives_right\n",
      "NaN         US           809  United States          True\n",
      "NaN        AUS           731      Australia         False\n",
      "NaN        JAP           588          Japan         False\n",
      "NaN         IN            18          India         False\n",
      "    Unnamed: 0  cars_per_cap  country  drives_right\n",
      "NaN         RU           200   Russia          True\n",
      "NaN        MOR            70  Morocco          True\n"
     ]
    }
   ],
   "source": [
    "# Print out first 4 observations\n",
    "print(cars.iloc[0:4])\n",
    "\n",
    "# Print out fifth and sixth observations\n",
    "print(cars.iloc[4:6])"
   ]
  },
  {
   "cell_type": "code",
   "execution_count": 34,
   "id": "474e3601",
   "metadata": {},
   "outputs": [],
   "source": [
    "# Load the CSV without setting an index\n",
    "cars = pd.read_csv('cars.csv')\n",
    "\n",
    "# Set the first column as the index\n",
    "cars.set_index(cars.columns[0], inplace=True)"
   ]
  },
  {
   "cell_type": "code",
   "execution_count": 35,
   "id": "4f68e727",
   "metadata": {},
   "outputs": [
    {
     "data": {
      "text/plain": [
       "Index(['US', 'AUS', 'JAP', 'IN', 'RU', 'MOR', 'EG'], dtype='object', name='Unnamed: 0')"
      ]
     },
     "execution_count": 35,
     "metadata": {},
     "output_type": "execute_result"
    }
   ],
   "source": [
    "cars.index"
   ]
  },
  {
   "cell_type": "code",
   "execution_count": 37,
   "id": "1713f297",
   "metadata": {},
   "outputs": [
    {
     "name": "stdout",
     "output_type": "stream",
     "text": [
      "            cars_per_cap    country  drives_right\n",
      "Unnamed: 0                                       \n",
      "AUS                  731  Australia         False\n",
      "EG                    45      Egypt          True\n"
     ]
    }
   ],
   "source": [
    "# Print out observations for Australia and Egypt\n",
    "print(cars.loc[['AUS', 'EG']])"
   ]
  }
 ],
 "metadata": {
  "kernelspec": {
   "display_name": "Python 3 (ipykernel)",
   "language": "python",
   "name": "python3"
  },
  "language_info": {
   "codemirror_mode": {
    "name": "ipython",
    "version": 3
   },
   "file_extension": ".py",
   "mimetype": "text/x-python",
   "name": "python",
   "nbconvert_exporter": "python",
   "pygments_lexer": "ipython3",
   "version": "3.9.12"
  }
 },
 "nbformat": 4,
 "nbformat_minor": 5
}
