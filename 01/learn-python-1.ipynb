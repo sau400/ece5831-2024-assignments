{
 "cells": [
  {
   "cell_type": "markdown",
   "id": "1c767076",
   "metadata": {},
   "source": [
    "# ASSIGNMENT PYTHON #NAME: SAURABH RAOKHANDE #SUBJECT:PATTERN RECOGNITION AND NEURAL NETWORKS(ECE-5831)"
   ]
  },
  {
   "cell_type": "markdown",
   "id": "fa8e17e1",
   "metadata": {},
   "source": [
    "# Hello world"
   ]
  },
  {
   "cell_type": "code",
   "execution_count": 3,
   "id": "07f37f72",
   "metadata": {},
   "outputs": [
    {
     "name": "stdout",
     "output_type": "stream",
     "text": [
      "this line will be printed\n"
     ]
    }
   ],
   "source": [
    "print(\"this line will be printed\")"
   ]
  },
  {
   "cell_type": "code",
   "execution_count": 4,
   "id": "14ebe248",
   "metadata": {},
   "outputs": [
    {
     "name": "stdout",
     "output_type": "stream",
     "text": [
      "Yes\n"
     ]
    }
   ],
   "source": [
    "x = \"market\"\n",
    "if x == \"market\":\n",
    "    print(\"Yes\")\n",
    "else:\n",
    "    print(\"No\")"
   ]
  },
  {
   "cell_type": "code",
   "execution_count": 5,
   "id": "a193803c",
   "metadata": {},
   "outputs": [
    {
     "name": "stdout",
     "output_type": "stream",
     "text": [
      "Goodbye world\n"
     ]
    }
   ],
   "source": [
    "print(\"Goodbye world\")"
   ]
  },
  {
   "cell_type": "markdown",
   "id": "6fbc9a7e",
   "metadata": {},
   "source": [
    "# Variables and Types"
   ]
  },
  {
   "cell_type": "code",
   "execution_count": 6,
   "id": "810fd2ed",
   "metadata": {},
   "outputs": [
    {
     "name": "stdout",
     "output_type": "stream",
     "text": [
      "7\n"
     ]
    }
   ],
   "source": [
    "myint = 7\n",
    "print(myint)"
   ]
  },
  {
   "cell_type": "code",
   "execution_count": 7,
   "id": "523793d3",
   "metadata": {},
   "outputs": [
    {
     "name": "stdout",
     "output_type": "stream",
     "text": [
      "7.0\n",
      "7.0\n"
     ]
    }
   ],
   "source": [
    "myfloat = 7.0\n",
    "print(myfloat)\n",
    "myfloat = float(7)\n",
    "print(myfloat)\n"
   ]
  },
  {
   "cell_type": "code",
   "execution_count": 8,
   "id": "bf9f1ae6",
   "metadata": {},
   "outputs": [
    {
     "name": "stdout",
     "output_type": "stream",
     "text": [
      "hello\n",
      "hello\n"
     ]
    }
   ],
   "source": [
    "mystring = \"hello\"\n",
    "print(mystring)\n",
    "mystring = 'hello'\n",
    "print(mystring)"
   ]
  },
  {
   "cell_type": "code",
   "execution_count": 9,
   "id": "81235936",
   "metadata": {},
   "outputs": [
    {
     "name": "stdout",
     "output_type": "stream",
     "text": [
      "Don't worry about apostropies\n"
     ]
    }
   ],
   "source": [
    "mystring = \"Don't worry about apostropies\"\n",
    "print(mystring)"
   ]
  },
  {
   "cell_type": "code",
   "execution_count": 11,
   "id": "fb3b3e86",
   "metadata": {},
   "outputs": [
    {
     "name": "stdout",
     "output_type": "stream",
     "text": [
      "3\n",
      "hello world\n"
     ]
    }
   ],
   "source": [
    "one = 1\n",
    "two = 2\n",
    "three = one+two\n",
    "print(three)\n",
    "hello = \"hello\"\n",
    "world = \"world\"\n",
    "helloworld = hello + \" \" + world\n",
    "print(helloworld)"
   ]
  },
  {
   "cell_type": "code",
   "execution_count": 13,
   "id": "b9d4ec2a",
   "metadata": {},
   "outputs": [
    {
     "name": "stdout",
     "output_type": "stream",
     "text": [
      "12hello_saurabh\n"
     ]
    }
   ],
   "source": [
    "one = 1\n",
    "two = 2\n",
    "add = str(one) + str(two) + 'hello_saurabh'\n",
    "print(add)"
   ]
  },
  {
   "cell_type": "code",
   "execution_count": 17,
   "id": "7b5051d3",
   "metadata": {},
   "outputs": [
    {
     "name": "stdout",
     "output_type": "stream",
     "text": [
      "string: saurabh\n",
      "myfloat: 10.000000\n",
      "myint: 100\n"
     ]
    }
   ],
   "source": [
    "mystring = \"saurabh\"\n",
    "myfloat = 10.0\n",
    "myint = 100\n",
    "if mystring == \"saurabh\":\n",
    "    print(\"string: %s\" % mystring)\n",
    "if isinstance(myfloat,float) and myfloat == 10.0:\n",
    "    print(\"myfloat: %f\" %myfloat)\n",
    "if isinstance(myint,int) and myint==100:\n",
    "    print(\"myint: %d\" %myint)"
   ]
  },
  {
   "cell_type": "markdown",
   "id": "43fca999",
   "metadata": {},
   "source": [
    "# LIST"
   ]
  },
  {
   "cell_type": "code",
   "execution_count": 30,
   "id": "7a5e11aa",
   "metadata": {},
   "outputs": [
    {
     "name": "stdout",
     "output_type": "stream",
     "text": [
      "[1, 2, 2]\n",
      "122"
     ]
    }
   ],
   "source": [
    "my_list = []\n",
    "my_list.append(1)\n",
    "my_list.append(2)\n",
    "my_list.append(2)\n",
    "print(my_list)\n",
    "for i in my_list:\n",
    "    print(i, end=\"\")"
   ]
  },
  {
   "cell_type": "code",
   "execution_count": 31,
   "id": "888b377e",
   "metadata": {},
   "outputs": [
    {
     "ename": "IndexError",
     "evalue": "list index out of range",
     "output_type": "error",
     "traceback": [
      "\u001b[1;31m---------------------------------------------------------------------------\u001b[0m",
      "\u001b[1;31mIndexError\u001b[0m                                Traceback (most recent call last)",
      "Input \u001b[1;32mIn [31]\u001b[0m, in \u001b[0;36m<cell line: 2>\u001b[1;34m()\u001b[0m\n\u001b[0;32m      1\u001b[0m my_lis \u001b[38;5;241m=\u001b[39m [\u001b[38;5;241m1\u001b[39m,\u001b[38;5;241m2\u001b[39m,\u001b[38;5;241m3\u001b[39m]\n\u001b[1;32m----> 2\u001b[0m \u001b[38;5;28mprint\u001b[39m(\u001b[43mmy_lis\u001b[49m\u001b[43m[\u001b[49m\u001b[38;5;241;43m10\u001b[39;49m\u001b[43m]\u001b[49m)\n",
      "\u001b[1;31mIndexError\u001b[0m: list index out of range"
     ]
    }
   ],
   "source": [
    "my_lis = [1,2,3]\n",
    "print(my_lis[10])"
   ]
  },
  {
   "cell_type": "code",
   "execution_count": 32,
   "id": "dfaf445d",
   "metadata": {},
   "outputs": [
    {
     "name": "stdout",
     "output_type": "stream",
     "text": [
      "[1]\n",
      "['s', 'a']\n",
      "eric\n"
     ]
    }
   ],
   "source": [
    "number = [1]\n",
    "string = [\"s\",\"a\"]\n",
    "name = ['john', 'eric', \"jessica\"]\n",
    "second_name = name[1]\n",
    "print(number)\n",
    "print(string)\n",
    "print(second_name)"
   ]
  },
  {
   "cell_type": "markdown",
   "id": "94119399",
   "metadata": {},
   "source": [
    "# Basic operators"
   ]
  },
  {
   "cell_type": "code",
   "execution_count": 35,
   "id": "61641a98",
   "metadata": {},
   "outputs": [
    {
     "name": "stdout",
     "output_type": "stream",
     "text": [
      "2.5\n"
     ]
    }
   ],
   "source": [
    "number = 1+2*3/4.0\n",
    "print(number)"
   ]
  },
  {
   "cell_type": "code",
   "execution_count": 36,
   "id": "73360164",
   "metadata": {},
   "outputs": [
    {
     "name": "stdout",
     "output_type": "stream",
     "text": [
      "2\n"
     ]
    }
   ],
   "source": [
    "remainder = 11%3\n",
    "print(remainder)"
   ]
  },
  {
   "cell_type": "code",
   "execution_count": 49,
   "id": "43728919",
   "metadata": {},
   "outputs": [
    {
     "name": "stdout",
     "output_type": "stream",
     "text": [
      "(squared,cube)--> (4, 27)\n"
     ]
    }
   ],
   "source": [
    "squared = 2 ** 2\n",
    "cube = 3**3\n",
    "print(\"(squared,cube)-->\",(squared,cube))"
   ]
  },
  {
   "cell_type": "code",
   "execution_count": 50,
   "id": "3083c726",
   "metadata": {},
   "outputs": [
    {
     "name": "stdout",
     "output_type": "stream",
     "text": [
      "hello world\n"
     ]
    }
   ],
   "source": [
    "hello = \"hello\"\n",
    "world = \"world\"\n",
    "print(hello + \" \" + world)"
   ]
  },
  {
   "cell_type": "code",
   "execution_count": 1,
   "id": "c3158704",
   "metadata": {},
   "outputs": [
    {
     "name": "stdout",
     "output_type": "stream",
     "text": [
      "hellohellohellohellohellohellohellohellohellohellohellohellohellohellohellohellohellohellohellohello\n"
     ]
    }
   ],
   "source": [
    "lots_hello = 20*\"hello\"\n",
    "print(lots_hello)"
   ]
  },
  {
   "cell_type": "code",
   "execution_count": 2,
   "id": "d520b6bb",
   "metadata": {},
   "outputs": [
    {
     "name": "stdout",
     "output_type": "stream",
     "text": [
      "[2, 4, 6, 8, 1, 3, 5, 9]\n"
     ]
    }
   ],
   "source": [
    "even_no = [2,4,6,8]\n",
    "odd = [1,3,5,9]\n",
    "add = even_no + odd\n",
    "print(add)"
   ]
  },
  {
   "cell_type": "code",
   "execution_count": 3,
   "id": "2b750ae7",
   "metadata": {},
   "outputs": [
    {
     "name": "stdout",
     "output_type": "stream",
     "text": [
      "[1, 3, 500, 1, 3, 500, 1, 3, 500]\n"
     ]
    }
   ],
   "source": [
    "print([1,3,500]*3)"
   ]
  },
  {
   "cell_type": "code",
   "execution_count": 18,
   "id": "e5700569",
   "metadata": {},
   "outputs": [
    {
     "name": "stdout",
     "output_type": "stream",
     "text": [
      "x_list contains 10 objects\n",
      "y_list contains 10 objects\n",
      "big_list contains 20 objects\n",
      "Almost there\n",
      "Yaaa\n"
     ]
    }
   ],
   "source": [
    "x = object()\n",
    "y = object()\n",
    "\n",
    "x_list = [x,x,x,x,x,x,x,x,x,x]\n",
    "y_list = [y,y,y,y,y,y,y,y,y,y]\n",
    "big_list = x_list+y_list\n",
    "\n",
    "print(\"x_list contains %d objects\" % len(x_list))\n",
    "print(\"y_list contains %d objects\" % len(y_list))\n",
    "print(\"big_list contains %d objects\" % len(big_list))\n",
    "\n",
    "if x_list.count(x) == 10 and y_list.count(y) == 10:\n",
    "    print(\"Almost there\")\n",
    "if big_list.count(x) == 10 and big_list.count(y) == 10:\n",
    "    print(\"Yaaa\")"
   ]
  },
  {
   "cell_type": "markdown",
   "id": "c6fc4a95",
   "metadata": {},
   "source": [
    "# STRING FORMATTING"
   ]
  },
  {
   "cell_type": "code",
   "execution_count": 1,
   "id": "5b754150",
   "metadata": {},
   "outputs": [
    {
     "name": "stdout",
     "output_type": "stream",
     "text": [
      "hello saurabh!\n"
     ]
    }
   ],
   "source": [
    "name = \"saurabh\"\n",
    "print(\"hello %s!\" %name)"
   ]
  },
  {
   "cell_type": "code",
   "execution_count": 2,
   "id": "130ddac3",
   "metadata": {},
   "outputs": [
    {
     "name": "stdout",
     "output_type": "stream",
     "text": [
      "saurabh is 26 years old\n"
     ]
    }
   ],
   "source": [
    "name = \"saurabh\"\n",
    "age = 26\n",
    "print(\"%s is %d years old\" %(name,age))"
   ]
  },
  {
   "cell_type": "code",
   "execution_count": 3,
   "id": "97ece7e5",
   "metadata": {},
   "outputs": [
    {
     "name": "stdout",
     "output_type": "stream",
     "text": [
      "mylist is [10, 20, 30]\n"
     ]
    }
   ],
   "source": [
    "my_list = [10,20,30]\n",
    "print(\"mylist is %s\" %my_list)"
   ]
  },
  {
   "cell_type": "code",
   "execution_count": 12,
   "id": "d2c1886d",
   "metadata": {},
   "outputs": [
    {
     "name": "stdout",
     "output_type": "stream",
     "text": [
      " Hello John Doe. your current balance is 53\n"
     ]
    }
   ],
   "source": [
    "data = (\"John\", \"Doe\", 53.44)\n",
    "format_string = \"Hello\"\n",
    "\n",
    "print(\" %s %s %s. your current balance is %d\" %(format_string,data[0],data[1],data[2]))"
   ]
  },
  {
   "cell_type": "markdown",
   "id": "15ed4b9f",
   "metadata": {},
   "source": [
    "# Basic String Operations"
   ]
  },
  {
   "cell_type": "code",
   "execution_count": 13,
   "id": "47220bb2",
   "metadata": {},
   "outputs": [],
   "source": [
    "astring1 = \"Hello world!\"\n",
    "astring2 = 'Hello world!'"
   ]
  },
  {
   "cell_type": "code",
   "execution_count": 22,
   "id": "d4f38ed9",
   "metadata": {},
   "outputs": [
    {
     "name": "stdout",
     "output_type": "stream",
     "text": [
      "2\n",
      "6\n",
      "lo \n",
      "l \n",
      "lo w\n",
      "!dlrow olleH\n",
      "HELLO WORLD!\n",
      "hello world!\n",
      "True\n",
      "False\n"
     ]
    }
   ],
   "source": [
    "print(astring1.count('o'))\n",
    "print(astring1.index('w'))\n",
    "print(astring1[3:6])\n",
    "print(astring1[3:7:2])\n",
    "print(astring1[3:7:1])\n",
    "print(astring1[::-1])\n",
    "print(astring1.upper())\n",
    "print(astring1.lower())\n",
    "print(astring1.startswith(\"Hello\"))\n",
    "print(astring1.endswith(\"asdfasdfasdf\"))"
   ]
  },
  {
   "cell_type": "code",
   "execution_count": 24,
   "id": "e32d3d53",
   "metadata": {},
   "outputs": [
    {
     "name": "stdout",
     "output_type": "stream",
     "text": [
      "Length of s is 29\n",
      "The first occurrence of the letter a = 15\n",
      "a occurs 3 times\n",
      "The first five characters are 'Hey t'\n",
      "The next five characters are 'here!'\n",
      "The fifteenth character is 'n'\n",
      "The characters with odd index are 'e hr!m aei arb'\n",
      "The last five characters are 'urabh'\n"
     ]
    }
   ],
   "source": [
    "s = \"Hey there! my name is saurabh\"\n",
    "print(\"Length of s is %d\" % len(s))\n",
    "print(\"The first occurrence of the letter a = %d\" % s.index(\"a\"))\n",
    "print(\"a occurs %d times\" % s.count(\"a\"))\n",
    "print(\"The first five characters are '%s'\" % s[:5]) \n",
    "print(\"The next five characters are '%s'\" % s[5:10])\n",
    "print(\"The fifteenth character is '%s'\" % s[14]) \n",
    "print(\"The characters with odd index are '%s'\" %s[1::2]) \n",
    "print(\"The last five characters are '%s'\" % s[-5:]) "
   ]
  },
  {
   "cell_type": "markdown",
   "id": "4591c4eb",
   "metadata": {},
   "source": [
    "# Conditions"
   ]
  },
  {
   "cell_type": "code",
   "execution_count": 25,
   "id": "a5cb7b1d",
   "metadata": {},
   "outputs": [
    {
     "name": "stdout",
     "output_type": "stream",
     "text": [
      "True\n",
      "False\n",
      "True\n"
     ]
    }
   ],
   "source": [
    "x = 2\n",
    "print(x == 2) \n",
    "print(x == 3) \n",
    "print(x < 3) "
   ]
  },
  {
   "cell_type": "code",
   "execution_count": 27,
   "id": "1d43243a",
   "metadata": {},
   "outputs": [
    {
     "name": "stdout",
     "output_type": "stream",
     "text": [
      "Your name is saurabh, and you are also 26 years old.\n",
      "Your name is either saurabh or shubham.\n"
     ]
    }
   ],
   "source": [
    "name = \"saurabh\"\n",
    "age = 26\n",
    "if name == \"saurabh\" and age == 26:\n",
    "    print(\"Your name is %s, and you are also %d years old.\"%(name,age))\n",
    "\n",
    "if name == \"saurabh\" or name == \"shubham\":\n",
    "    print(\"Your name is either saurabh or shubham.\")"
   ]
  },
  {
   "cell_type": "code",
   "execution_count": 28,
   "id": "5f7b2341",
   "metadata": {},
   "outputs": [
    {
     "name": "stdout",
     "output_type": "stream",
     "text": [
      "your name is in list\n"
     ]
    }
   ],
   "source": [
    "if name in ['saurabh','rahul','shubham']:\n",
    "    print(\"your name is in list\")"
   ]
  },
  {
   "cell_type": "code",
   "execution_count": 29,
   "id": "50bb809f",
   "metadata": {},
   "outputs": [],
   "source": [
    "statment = True\n",
    "if statment is True:\n",
    "    pass"
   ]
  },
  {
   "cell_type": "code",
   "execution_count": 31,
   "id": "16886f29",
   "metadata": {},
   "outputs": [
    {
     "name": "stdout",
     "output_type": "stream",
     "text": [
      "False\n",
      "False\n"
     ]
    }
   ],
   "source": [
    "x=[1,2,3,1,2]\n",
    "y=[40,50,70,90]\n",
    "print(x==y)\n",
    "print(x is y)"
   ]
  },
  {
   "cell_type": "code",
   "execution_count": 32,
   "id": "3761871f",
   "metadata": {},
   "outputs": [
    {
     "name": "stdout",
     "output_type": "stream",
     "text": [
      "True\n",
      "True\n"
     ]
    }
   ],
   "source": [
    "print(not False)\n",
    "print((not True) == (False)) "
   ]
  },
  {
   "cell_type": "code",
   "execution_count": 33,
   "id": "f420f4c8",
   "metadata": {},
   "outputs": [
    {
     "name": "stdout",
     "output_type": "stream",
     "text": [
      "1\n",
      "2\n",
      "3\n",
      "4\n",
      "5\n",
      "6\n"
     ]
    }
   ],
   "source": [
    "number = 16\n",
    "second_number = False\n",
    "first_array = [1,55,66]\n",
    "second_array = [1,2]\n",
    "\n",
    "if number > 15:\n",
    "    print(\"1\")\n",
    "\n",
    "if first_array:\n",
    "    print(\"2\")\n",
    "\n",
    "if len(second_array) == 2:\n",
    "    print(\"3\")\n",
    "\n",
    "if len(first_array) + len(second_array) == 5:\n",
    "    print(\"4\")\n",
    "\n",
    "if first_array and first_array[0] == 1:\n",
    "    print(\"5\")\n",
    "\n",
    "if not second_number:\n",
    "    print(\"6\")"
   ]
  },
  {
   "cell_type": "markdown",
   "id": "36052e9d",
   "metadata": {},
   "source": [
    "# LOOPS"
   ]
  },
  {
   "cell_type": "code",
   "execution_count": 2,
   "id": "9328584a",
   "metadata": {},
   "outputs": [
    {
     "name": "stdout",
     "output_type": "stream",
     "text": [
      "1 2 3 4 5 6 7 8 9 "
     ]
    }
   ],
   "source": [
    "for x in range(1, 10):\n",
    "    print(x, end=' ')"
   ]
  },
  {
   "cell_type": "code",
   "execution_count": 4,
   "id": "bf85de0e",
   "metadata": {},
   "outputs": [
    {
     "name": "stdout",
     "output_type": "stream",
     "text": [
      "saurabh saurabh saurabh saurabh saurabh "
     ]
    }
   ],
   "source": [
    "i = 10\n",
    "while i>5:\n",
    "    print(\"saurabh\", end = ' ')\n",
    "    i = i-1"
   ]
  },
  {
   "cell_type": "code",
   "execution_count": 5,
   "id": "95f81bbe",
   "metadata": {},
   "outputs": [
    {
     "name": "stdout",
     "output_type": "stream",
     "text": [
      "1\n",
      "3\n",
      "5\n",
      "7\n",
      "9\n"
     ]
    }
   ],
   "source": [
    "for x in range(10):\n",
    "    if x % 2 == 0:\n",
    "        continue\n",
    "    print(x)"
   ]
  },
  {
   "cell_type": "code",
   "execution_count": 8,
   "id": "bf29188b",
   "metadata": {},
   "outputs": [
    {
     "name": "stdout",
     "output_type": "stream",
     "text": [
      "5\n",
      "hi im in else\n"
     ]
    }
   ],
   "source": [
    "for i in range(1, 10):\n",
    "    if(i%5==0): \n",
    "        print(i)\n",
    "else:\n",
    "    print(\"hi im in else\")"
   ]
  },
  {
   "cell_type": "code",
   "execution_count": 16,
   "id": "89607161",
   "metadata": {},
   "outputs": [
    {
     "name": "stdout",
     "output_type": "stream",
     "text": [
      "2\n",
      "2\n",
      "4\n"
     ]
    }
   ],
   "source": [
    "numbers = [1,2,2,4,5,237,6]\n",
    "for number in numbers:\n",
    "    if number == 237:\n",
    "        break\n",
    "\n",
    "    if number % 2 == 0:\n",
    "        print(number)"
   ]
  },
  {
   "cell_type": "code",
   "execution_count": 17,
   "id": "71ca3519",
   "metadata": {},
   "outputs": [
    {
     "name": "stdout",
     "output_type": "stream",
     "text": [
      "402\n",
      "984\n",
      "360\n",
      "408\n",
      "980\n",
      "544\n",
      "390\n",
      "984\n",
      "592\n",
      "236\n",
      "942\n",
      "386\n",
      "462\n",
      "418\n",
      "344\n",
      "236\n",
      "566\n",
      "978\n",
      "328\n",
      "162\n",
      "758\n",
      "918\n"
     ]
    }
   ],
   "source": [
    "numbers = [\n",
    "    951, 402, 984, 651, 360, 69, 408, 319, 601, 485, 980, 507, 725, 547, 544,\n",
    "    615, 83, 165, 141, 501, 263, 617, 865, 575, 219, 390, 984, 592, 236, 105, 942, 941,\n",
    "    386, 462, 47, 418, 907, 344, 236, 375, 823, 566, 597, 978, 328, 615, 953, 345,\n",
    "    399, 162, 758, 219, 918, 237, 412, 566, 826, 248, 866, 950, 626, 949, 687, 217,\n",
    "    815, 67, 104, 58, 512, 24, 892, 894, 767, 553, 81, 379, 843, 831, 445, 742, 717,\n",
    "    958, 609, 842, 451, 688, 753, 854, 685, 93, 857, 440, 380, 126, 721, 328, 753, 470,\n",
    "    743, 527\n",
    "]\n",
    "\n",
    "for number in numbers:\n",
    "    if number == 237:\n",
    "        break\n",
    "\n",
    "    if number % 2 == 0:\n",
    "        print(number)"
   ]
  },
  {
   "cell_type": "markdown",
   "id": "324041a0",
   "metadata": {},
   "source": [
    "# Functions"
   ]
  },
  {
   "cell_type": "code",
   "execution_count": 18,
   "id": "6c01bc53",
   "metadata": {},
   "outputs": [
    {
     "name": "stdout",
     "output_type": "stream",
     "text": [
      "hello saurabh\n",
      "Hello, saurabh, From My Function!, I wish you hoe are you\n",
      "sum--> 75\n"
     ]
    }
   ],
   "source": [
    "def saurabh_function():\n",
    "    print(\"hello saurabh\")\n",
    "def myfunction_with_args(username,greeting):\n",
    "    print(\"Hello, %s, From My Function!, I wish you %s\"%(username, greeting))\n",
    "def sum_numbers(a,b):\n",
    "    print('sum-->',a+b)\n",
    "saurabh_function()\n",
    "myfunction_with_args('saurabh',\"hoe are you\")\n",
    "sum_numbers(55,20)"
   ]
  },
  {
   "cell_type": "code",
   "execution_count": 20,
   "id": "79762ef5",
   "metadata": {},
   "outputs": [
    {
     "name": "stdout",
     "output_type": "stream",
     "text": [
      "More organized code is a benefit of functions!\n",
      "More readable code is a benefit of functions!\n",
      "Easier code reuse is a benefit of functions!\n",
      "Allowing programmers to share and connect code together is a benefit of functions!\n"
     ]
    }
   ],
   "source": [
    "def list_benefits():\n",
    "    return [\"More organized code\", \"More readable code\", \"Easier code reuse\", \"Allowing programmers to share and connect code together\"]\n",
    "\n",
    "def build_sentence(benefit):\n",
    "    return benefit+\" is a benefit of functions!\"\n",
    "\n",
    "def name_the_benefits_of_functions():\n",
    "    list_of_benefits = list_benefits()\n",
    "    for benefit in list_of_benefits:\n",
    "        print(build_sentence(benefit))\n",
    "name_the_benefits_of_functions()"
   ]
  },
  {
   "cell_type": "markdown",
   "id": "9dbcabcb",
   "metadata": {},
   "source": [
    "# Classes and Objects"
   ]
  },
  {
   "cell_type": "code",
   "execution_count": 21,
   "id": "0feaaca6",
   "metadata": {
    "scrolled": true
   },
   "outputs": [
    {
     "name": "stdout",
     "output_type": "stream",
     "text": [
      "Fer is a red convertible worth $60000.00.\n",
      "Jump is a blue van worth $10000.00.\n"
     ]
    }
   ],
   "source": [
    "class Vehicle:\n",
    "    def __init__(self, name=\"\", kind=\"car\", color=\"\", value=100.00):\n",
    "        self.name = name\n",
    "        self.kind = kind\n",
    "        self.color = color\n",
    "        self.value = value\n",
    "\n",
    "    def description(self):\n",
    "        desc_str = \"%s is a %s %s worth $%.2f.\" % (self.name, self.color, self.kind, self.value)\n",
    "        return desc_str\n",
    "\n",
    "class Car1(Vehicle):\n",
    "    def __init__(self):\n",
    "        super().__init__(name=\"Fer\", kind=\"convertible\", color=\"red\", value=60000)\n",
    "\n",
    "class Car2(Vehicle):\n",
    "    def __init__(self):\n",
    "        super().__init__(name=\"Jump\", kind=\"van\", color=\"blue\", value=10000)\n",
    "\n",
    "# test code\n",
    "car1 = Car1()\n",
    "car2 = Car2()\n",
    "\n",
    "print(car1.description())\n",
    "print(car2.description()) "
   ]
  },
  {
   "cell_type": "markdown",
   "id": "47add5ba",
   "metadata": {},
   "source": [
    "# Dictionaries"
   ]
  },
  {
   "cell_type": "code",
   "execution_count": 22,
   "id": "d21f8e5b",
   "metadata": {},
   "outputs": [
    {
     "name": "stdout",
     "output_type": "stream",
     "text": [
      "{'Jack': 938377264, 'Jill': 947662781}\n"
     ]
    }
   ],
   "source": [
    "phonebook = {\n",
    "   \"John\" : 938477566,\n",
    "   \"Jack\" : 938377264,\n",
    "   \"Jill\" : 947662781\n",
    "}\n",
    "phonebook.pop(\"John\")\n",
    "print(phonebook)"
   ]
  },
  {
   "cell_type": "code",
   "execution_count": 23,
   "id": "5b1c1aa8",
   "metadata": {},
   "outputs": [
    {
     "name": "stdout",
     "output_type": "stream",
     "text": [
      "{'Jack': 938377264, 'Jill': 947662781}\n"
     ]
    }
   ],
   "source": [
    "phonebook = {\n",
    "   \"John\" : 938477566,\n",
    "   \"Jack\" : 938377264,\n",
    "   \"Jill\" : 947662781\n",
    "}\n",
    "del phonebook[\"John\"]\n",
    "print(phonebook)"
   ]
  },
  {
   "cell_type": "code",
   "execution_count": 24,
   "id": "9043ceab",
   "metadata": {},
   "outputs": [
    {
     "name": "stdout",
     "output_type": "stream",
     "text": [
      "Phone number of John is 938477566\n",
      "Phone number of Jack is 938377264\n",
      "Phone number of Jill is 947662781\n"
     ]
    }
   ],
   "source": [
    "phonebook = {\"John\" : 938477566,\"Jack\" : 938377264,\"Jill\" : 947662781}\n",
    "for name, number in phonebook.items():\n",
    "    print(\"Phone number of %s is %d\" % (name, number))"
   ]
  },
  {
   "cell_type": "markdown",
   "id": "755a94f0",
   "metadata": {},
   "source": [
    "# Modules and Packages"
   ]
  },
  {
   "cell_type": "code",
   "execution_count": 2,
   "id": "dfae75b0",
   "metadata": {},
   "outputs": [
    {
     "name": "stdout",
     "output_type": "stream",
     "text": [
      "saurabh is a black motor worth $100000.00.\n"
     ]
    }
   ],
   "source": [
    "from Vehicle.saurabh import Vehicle\n",
    "\n",
    "my_vehicle = Vehicle(\"audi\",\"adjustable\",\"white\",200000)\n",
    "print(my_vehicle.description())"
   ]
  },
  {
   "cell_type": "code",
   "execution_count": 7,
   "id": "70c60fd7",
   "metadata": {},
   "outputs": [
    {
     "name": "stdout",
     "output_type": "stream",
     "text": [
      "I am drawing\n",
      "None\n"
     ]
    }
   ],
   "source": [
    "from drawing.draw import Draw\n",
    "\n",
    "drawing = Draw(10,20)\n",
    "print(drawing.drawing())"
   ]
  },
  {
   "cell_type": "code",
   "execution_count": 6,
   "id": "5ee54b98",
   "metadata": {},
   "outputs": [
    {
     "name": "stdout",
     "output_type": "stream",
     "text": [
      "saurabh omkar\n"
     ]
    }
   ],
   "source": [
    "from gaming.game import Game\n",
    "\n",
    "gaming = Game(\"saurabh\",\"aniket\")\n",
    "gaming.played_players()"
   ]
  },
  {
   "cell_type": "code",
   "execution_count": 3,
   "id": "70d48be6",
   "metadata": {},
   "outputs": [
    {
     "name": "stdout",
     "output_type": "stream",
     "text": [
      "************End******************\n"
     ]
    }
   ],
   "source": [
    "print(\"************End******************\")"
   ]
  }
 ],
 "metadata": {
  "kernelspec": {
   "display_name": "Python 3 (ipykernel)",
   "language": "python",
   "name": "python3"
  },
  "language_info": {
   "codemirror_mode": {
    "name": "ipython",
    "version": 3
   },
   "file_extension": ".py",
   "mimetype": "text/x-python",
   "name": "python",
   "nbconvert_exporter": "python",
   "pygments_lexer": "ipython3",
   "version": "3.9.12"
  }
 },
 "nbformat": 4,
 "nbformat_minor": 5
}
